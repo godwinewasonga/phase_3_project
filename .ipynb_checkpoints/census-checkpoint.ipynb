{
 "cells": [
  {
   "cell_type": "markdown",
   "metadata": {},
   "source": [
    "# INCOME PREDICTION STUDY"
   ]
  },
  {
   "cell_type": "markdown",
   "metadata": {},
   "source": [
    "### Overall Goal\n",
    "Predict individual annual income (>50K vs. <=50K) using demographic and work-related features."
   ]
  },
  {
   "cell_type": "markdown",
   "metadata": {},
   "source": [
    "This is an adult census income dataset which was  extracted from the 1994 Census bureau database by Ronny Kohavi and Barry Becker (Data Mining and Visualization, Silicon Graphics). A set of reasonably clean records was extracted using the following conditions: ((AGE>16) , (AGE<100)),(AFNLWGT>1),  (HRSWK>0)."
   ]
  },
  {
   "cell_type": "markdown",
   "metadata": {},
   "source": [
    "### OBJECTIVES"
   ]
  },
  {
   "cell_type": "markdown",
   "metadata": {},
   "source": [
    "#### 1) How can we use the demographic and work‐related features (age, education, occupation, hours‐per‐week, etc.) to predict  an individual’s annual income ?\n",
    "\n",
    "#### 2) What quantifies a higher income? (e.g., via decision‐tree/ensemble methods or logistic‐regression coefficients) to understand which attributes—like education level, occupation, or hours worked—most strongly drive the “> 50K” outcome.\n",
    "\n",
    "#### 3) How does income vary across various subgroups(gender, race, marital‐status, native‐country) in our dataset?  For example, examine whether certain occupations or educational attainments correlate differently with income for various demographic slices.\n",
    "\n"
   ]
  },
  {
   "cell_type": "markdown",
   "metadata": {},
   "source": [
    "### DATA UNDERSTANDING\n"
   ]
  },
  {
   "cell_type": "code",
   "execution_count": 1,
   "metadata": {},
   "outputs": [],
   "source": [
    "import pandas as pd\n",
    "import numpy as np\n"
   ]
  },
  {
   "cell_type": "code",
   "execution_count": 2,
   "metadata": {},
   "outputs": [
    {
     "name": "stdout",
     "output_type": "stream",
     "text": [
      "Note: you may need to restart the kernel to use updated packages.\n"
     ]
    },
    {
     "name": "stderr",
     "output_type": "stream",
     "text": [
      "ERROR: Could not find a version that satisfies the requirement sckit-learn (from versions: none)\n",
      "ERROR: No matching distribution found for sckit-learn\n"
     ]
    }
   ],
   "source": [
    "pip install --upgrade sckit-learn"
   ]
  },
  {
   "cell_type": "code",
   "execution_count": 3,
   "metadata": {},
   "outputs": [
    {
     "name": "stdout",
     "output_type": "stream",
     "text": [
      "Requirement already satisfied: imbalanced-learn in c:\\users\\afric\\anaconda3\\envs\\learn-env\\lib\\site-packages (0.7.0)\n",
      "Requirement already satisfied: scikit-learn>=0.23 in c:\\users\\afric\\anaconda3\\envs\\learn-env\\lib\\site-packages (from imbalanced-learn) (1.1.3)\n",
      "Requirement already satisfied: scipy>=0.19.1 in c:\\users\\afric\\anaconda3\\envs\\learn-env\\lib\\site-packages (from imbalanced-learn) (1.5.0)\n",
      "Requirement already satisfied: numpy>=1.13.3 in c:\\users\\afric\\anaconda3\\envs\\learn-env\\lib\\site-packages (from imbalanced-learn) (1.18.5)\n",
      "Requirement already satisfied: joblib>=0.11 in c:\\users\\afric\\anaconda3\\envs\\learn-env\\lib\\site-packages (from imbalanced-learn) (1.4.2)\n",
      "Requirement already satisfied: threadpoolctl>=2.0.0 in c:\\users\\afric\\anaconda3\\envs\\learn-env\\lib\\site-packages (from scikit-learn>=0.23->imbalanced-learn) (2.1.0)\n",
      "Note: you may need to restart the kernel to use updated packages.\n"
     ]
    }
   ],
   "source": [
    "pip install  imbalanced-learn"
   ]
  },
  {
   "cell_type": "code",
   "execution_count": 4,
   "metadata": {},
   "outputs": [
    {
     "name": "stdout",
     "output_type": "stream",
     "text": [
      "Note: you may need to restart the kernel to use updated packages.\n"
     ]
    },
    {
     "name": "stderr",
     "output_type": "stream",
     "text": [
      "ERROR: Could not find a version that satisfies the requirement upgrade (from versions: none)\n",
      "ERROR: No matching distribution found for upgrade\n"
     ]
    }
   ],
   "source": [
    "pip install upgrade imbalanced-learn"
   ]
  },
  {
   "cell_type": "code",
   "execution_count": 5,
   "metadata": {},
   "outputs": [
    {
     "name": "stdout",
     "output_type": "stream",
     "text": [
      "Requirement already satisfied: graphviz in c:\\users\\afric\\anaconda3\\envs\\learn-env\\lib\\site-packages (0.20.3)\n",
      "Note: you may need to restart the kernel to use updated packages.\n"
     ]
    }
   ],
   "source": [
    "\n",
    "pip install graphviz"
   ]
  },
  {
   "cell_type": "code",
   "execution_count": 6,
   "metadata": {},
   "outputs": [
    {
     "name": "stdout",
     "output_type": "stream",
     "text": [
      "Combined shape: (48842, 15)\n"
     ]
    },
    {
     "data": {
      "text/html": [
       "<div>\n",
       "<style scoped>\n",
       "    .dataframe tbody tr th:only-of-type {\n",
       "        vertical-align: middle;\n",
       "    }\n",
       "\n",
       "    .dataframe tbody tr th {\n",
       "        vertical-align: top;\n",
       "    }\n",
       "\n",
       "    .dataframe thead th {\n",
       "        text-align: right;\n",
       "    }\n",
       "</style>\n",
       "<table border=\"1\" class=\"dataframe\">\n",
       "  <thead>\n",
       "    <tr style=\"text-align: right;\">\n",
       "      <th></th>\n",
       "      <th>age</th>\n",
       "      <th>workclass</th>\n",
       "      <th>fnlwgt</th>\n",
       "      <th>education</th>\n",
       "      <th>education_num</th>\n",
       "      <th>marital_status</th>\n",
       "      <th>occupation</th>\n",
       "      <th>relationship</th>\n",
       "      <th>race</th>\n",
       "      <th>sex</th>\n",
       "      <th>capital_gain</th>\n",
       "      <th>capital_loss</th>\n",
       "      <th>hours_per_week</th>\n",
       "      <th>native_country</th>\n",
       "      <th>income</th>\n",
       "    </tr>\n",
       "  </thead>\n",
       "  <tbody>\n",
       "    <tr>\n",
       "      <th>0</th>\n",
       "      <td>39</td>\n",
       "      <td>State-gov</td>\n",
       "      <td>77516</td>\n",
       "      <td>Bachelors</td>\n",
       "      <td>13</td>\n",
       "      <td>Never-married</td>\n",
       "      <td>Adm-clerical</td>\n",
       "      <td>Not-in-family</td>\n",
       "      <td>White</td>\n",
       "      <td>Male</td>\n",
       "      <td>2174</td>\n",
       "      <td>0</td>\n",
       "      <td>40</td>\n",
       "      <td>United-States</td>\n",
       "      <td>&lt;=50K</td>\n",
       "    </tr>\n",
       "    <tr>\n",
       "      <th>1</th>\n",
       "      <td>50</td>\n",
       "      <td>Self-emp-not-inc</td>\n",
       "      <td>83311</td>\n",
       "      <td>Bachelors</td>\n",
       "      <td>13</td>\n",
       "      <td>Married-civ-spouse</td>\n",
       "      <td>Exec-managerial</td>\n",
       "      <td>Husband</td>\n",
       "      <td>White</td>\n",
       "      <td>Male</td>\n",
       "      <td>0</td>\n",
       "      <td>0</td>\n",
       "      <td>13</td>\n",
       "      <td>United-States</td>\n",
       "      <td>&lt;=50K</td>\n",
       "    </tr>\n",
       "    <tr>\n",
       "      <th>2</th>\n",
       "      <td>38</td>\n",
       "      <td>Private</td>\n",
       "      <td>215646</td>\n",
       "      <td>HS-grad</td>\n",
       "      <td>9</td>\n",
       "      <td>Divorced</td>\n",
       "      <td>Handlers-cleaners</td>\n",
       "      <td>Not-in-family</td>\n",
       "      <td>White</td>\n",
       "      <td>Male</td>\n",
       "      <td>0</td>\n",
       "      <td>0</td>\n",
       "      <td>40</td>\n",
       "      <td>United-States</td>\n",
       "      <td>&lt;=50K</td>\n",
       "    </tr>\n",
       "    <tr>\n",
       "      <th>3</th>\n",
       "      <td>53</td>\n",
       "      <td>Private</td>\n",
       "      <td>234721</td>\n",
       "      <td>11th</td>\n",
       "      <td>7</td>\n",
       "      <td>Married-civ-spouse</td>\n",
       "      <td>Handlers-cleaners</td>\n",
       "      <td>Husband</td>\n",
       "      <td>Black</td>\n",
       "      <td>Male</td>\n",
       "      <td>0</td>\n",
       "      <td>0</td>\n",
       "      <td>40</td>\n",
       "      <td>United-States</td>\n",
       "      <td>&lt;=50K</td>\n",
       "    </tr>\n",
       "    <tr>\n",
       "      <th>4</th>\n",
       "      <td>28</td>\n",
       "      <td>Private</td>\n",
       "      <td>338409</td>\n",
       "      <td>Bachelors</td>\n",
       "      <td>13</td>\n",
       "      <td>Married-civ-spouse</td>\n",
       "      <td>Prof-specialty</td>\n",
       "      <td>Wife</td>\n",
       "      <td>Black</td>\n",
       "      <td>Female</td>\n",
       "      <td>0</td>\n",
       "      <td>0</td>\n",
       "      <td>40</td>\n",
       "      <td>Cuba</td>\n",
       "      <td>&lt;=50K</td>\n",
       "    </tr>\n",
       "  </tbody>\n",
       "</table>\n",
       "</div>"
      ],
      "text/plain": [
       "   age         workclass  fnlwgt  education  education_num  \\\n",
       "0   39         State-gov   77516  Bachelors             13   \n",
       "1   50  Self-emp-not-inc   83311  Bachelors             13   \n",
       "2   38           Private  215646    HS-grad              9   \n",
       "3   53           Private  234721       11th              7   \n",
       "4   28           Private  338409  Bachelors             13   \n",
       "\n",
       "       marital_status         occupation   relationship   race     sex  \\\n",
       "0       Never-married       Adm-clerical  Not-in-family  White    Male   \n",
       "1  Married-civ-spouse    Exec-managerial        Husband  White    Male   \n",
       "2            Divorced  Handlers-cleaners  Not-in-family  White    Male   \n",
       "3  Married-civ-spouse  Handlers-cleaners        Husband  Black    Male   \n",
       "4  Married-civ-spouse     Prof-specialty           Wife  Black  Female   \n",
       "\n",
       "   capital_gain  capital_loss  hours_per_week native_country income  \n",
       "0          2174             0              40  United-States  <=50K  \n",
       "1             0             0              13  United-States  <=50K  \n",
       "2             0             0              40  United-States  <=50K  \n",
       "3             0             0              40  United-States  <=50K  \n",
       "4             0             0              40           Cuba  <=50K  "
      ]
     },
     "execution_count": 6,
     "metadata": {},
     "output_type": "execute_result"
    }
   ],
   "source": [
    "\n",
    "# Define column names for the Adult dataset\n",
    "col_names = [\n",
    "    \"age\", \"workclass\", \"fnlwgt\", \"education\", \"education_num\",\n",
    "    \"marital_status\", \"occupation\", \"relationship\", \"race\", \"sex\",\n",
    "    \"capital_gain\", \"capital_loss\", \"hours_per_week\", \"native_country\", \"income\"]\n",
    "\n",
    "# Reading  the training file\n",
    "df_train = pd.read_csv(\"adult.data\", header=None, names=col_names, sep=r',\\s*',\n",
    "    engine='python')\n",
    "# Read the test file (skip the first “|” header row in adult.test)\n",
    "df_test = pd.read_csv( \"adult.test\", header=None, names=col_names, sep=r',\\s*',\n",
    "                       engine='python', skiprows=1)\n",
    "# We Combine into one DataFrame\n",
    "combined_df = pd.concat([df_train, df_test], ignore_index=True)\n",
    "\n",
    "print(\"Combined shape:\", combined_df.shape)\n",
    "combined_df.head()\n"
   ]
  },
  {
   "cell_type": "markdown",
   "metadata": {},
   "source": [
    "We have established the number of instances in our census income dataframe (48842) and the number of columns (15).\n",
    "We have also made an overview of the dataFrame by calling the .head() function.\n",
    "Our target variable is income whether its <=50k  or >50k\n"
   ]
  },
  {
   "cell_type": "code",
   "execution_count": 7,
   "metadata": {},
   "outputs": [
    {
     "name": "stdout",
     "output_type": "stream",
     "text": [
      "       Count  Percentage (%)\n",
      "<=50K  37155           76.07\n",
      ">50K   11687           23.93\n"
     ]
    }
   ],
   "source": [
    "#We try and remove any trailing period from the income strings.\n",
    "#We use str.rstrip to remove the trailing period from the 'income' column\n",
    "# This is necessary because the income column in the test set has a trailing period (e.g., \" <=50K.\")   \n",
    "combined_df['income'] = combined_df['income'].str.rstrip('.')\n",
    "# We count of each income category\n",
    "income_counts = combined_df['income'].value_counts()\n",
    "\n",
    "# We calculate the percentage of each income category\n",
    "# We normalize the counts to get percentages\n",
    "income_percentages = combined_df['income'].value_counts(normalize=True) * 100\n",
    "\n",
    "# We Combine into a DataFrame for easy viewing\n",
    "summary_df = pd.DataFrame({\n",
    "    'Count': income_counts,\n",
    "    'Percentage (%)': income_percentages.round(2)})\n",
    "\n",
    "print(summary_df)\n"
   ]
  },
  {
   "cell_type": "markdown",
   "metadata": {},
   "source": [
    "We can see the percentages and count in our census income data. \n",
    "we can elaborate more with a graph to visualize this distribution."
   ]
  },
  {
   "cell_type": "code",
   "execution_count": 8,
   "metadata": {},
   "outputs": [
    {
     "data": {
      "image/png": "[encoded data removed]",
      "text/plain": [
       "<Figure size 720x432 with 1 Axes>"
      ]
     },
     "metadata": {},
     "output_type": "display_data"
    }
   ],
   "source": [
    "#plotting the income distribution\n",
    "import matplotlib.pyplot as plt\n",
    "import seaborn as sns   \n",
    "# Set the style for seaborn\n",
    "sns.set(style=\"whitegrid\") \n",
    "# Create a bar plot for income distribution\n",
    "plt.figure(figsize=(10, 6))\n",
    "sns.countplot(data=combined_df, x='income', order=combined_df['income'].value_counts().index)\n",
    "plt.title('Income Distribution in Adult Dataset')\n",
    "plt.xlabel('Income')\n",
    "plt.ylabel('Count')\n",
    "plt.xticks(rotation=45)\n",
    "plt.tight_layout()\n",
    "plt.show()"
   ]
  },
  {
   "cell_type": "markdown",
   "metadata": {},
   "source": [
    "This shows that most people had income less than or equal to 50k which accounts for 76% of total count.\n",
    "whereelse around 24% were having income greater than 50k  mark"
   ]
  },
  {
   "cell_type": "code",
   "execution_count": 9,
   "metadata": {},
   "outputs": [
    {
     "name": "stdout",
     "output_type": "stream",
     "text": [
      "<class 'pandas.core.frame.DataFrame'>\n",
      "RangeIndex: 48842 entries, 0 to 48841\n",
      "Data columns (total 15 columns):\n",
      " #   Column          Non-Null Count  Dtype \n",
      "---  ------          --------------  ----- \n",
      " 0   age             48842 non-null  int64 \n",
      " 1   workclass       48842 non-null  object\n",
      " 2   fnlwgt          48842 non-null  int64 \n",
      " 3   education       48842 non-null  object\n",
      " 4   education_num   48842 non-null  int64 \n",
      " 5   marital_status  48842 non-null  object\n",
      " 6   occupation      48842 non-null  object\n",
      " 7   relationship    48842 non-null  object\n",
      " 8   race            48842 non-null  object\n",
      " 9   sex             48842 non-null  object\n",
      " 10  capital_gain    48842 non-null  int64 \n",
      " 11  capital_loss    48842 non-null  int64 \n",
      " 12  hours_per_week  48842 non-null  int64 \n",
      " 13  native_country  48842 non-null  object\n",
      " 14  income          48842 non-null  object\n",
      "dtypes: int64(6), object(9)\n",
      "memory usage: 5.6+ MB\n"
     ]
    }
   ],
   "source": [
    "#Obtaining information about the DataFrame\n",
    "combined_df.info()"
   ]
  },
  {
   "cell_type": "markdown",
   "metadata": {},
   "source": [
    "### DATA PREPARATION"
   ]
  },
  {
   "cell_type": "code",
   "execution_count": 10,
   "metadata": {},
   "outputs": [
    {
     "name": "stdout",
     "output_type": "stream",
     "text": [
      "Number of duplicate rows: 52\n"
     ]
    }
   ],
   "source": [
    "# check existence of any duplicate rows\n",
    "duplicates = combined_df.duplicated().sum()\n",
    "print(f\"Number of duplicate rows: {duplicates}\")"
   ]
  },
  {
   "cell_type": "code",
   "execution_count": 11,
   "metadata": {},
   "outputs": [
    {
     "name": "stdout",
     "output_type": "stream",
     "text": [
      "Duplicate rows removed. New shape: (48790, 15)\n"
     ]
    }
   ],
   "source": [
    "#removing duplicate rows if any\n",
    "if duplicates > 0:\n",
    "    combined_df = combined_df.drop_duplicates()\n",
    "    print(f\"Duplicate rows removed. New shape: {combined_df.shape}\")\n"
   ]
  },
  {
   "cell_type": "code",
   "execution_count": 12,
   "metadata": {},
   "outputs": [
    {
     "data": {
      "text/html": [
       "<div>\n",
       "<style scoped>\n",
       "    .dataframe tbody tr th:only-of-type {\n",
       "        vertical-align: middle;\n",
       "    }\n",
       "\n",
       "    .dataframe tbody tr th {\n",
       "        vertical-align: top;\n",
       "    }\n",
       "\n",
       "    .dataframe thead th {\n",
       "        text-align: right;\n",
       "    }\n",
       "</style>\n",
       "<table border=\"1\" class=\"dataframe\">\n",
       "  <thead>\n",
       "    <tr style=\"text-align: right;\">\n",
       "      <th></th>\n",
       "      <th>age</th>\n",
       "      <th>workclass</th>\n",
       "      <th>fnlwgt</th>\n",
       "      <th>education</th>\n",
       "      <th>education_num</th>\n",
       "      <th>marital_status</th>\n",
       "      <th>occupation</th>\n",
       "      <th>relationship</th>\n",
       "      <th>race</th>\n",
       "      <th>sex</th>\n",
       "      <th>capital_gain</th>\n",
       "      <th>capital_loss</th>\n",
       "      <th>hours_per_week</th>\n",
       "      <th>native_country</th>\n",
       "      <th>income</th>\n",
       "    </tr>\n",
       "  </thead>\n",
       "  <tbody>\n",
       "    <tr>\n",
       "      <th>0</th>\n",
       "      <td>39</td>\n",
       "      <td>State-gov</td>\n",
       "      <td>77516</td>\n",
       "      <td>Bachelors</td>\n",
       "      <td>13</td>\n",
       "      <td>Never-married</td>\n",
       "      <td>Adm-clerical</td>\n",
       "      <td>Not-in-family</td>\n",
       "      <td>White</td>\n",
       "      <td>Male</td>\n",
       "      <td>2174</td>\n",
       "      <td>0</td>\n",
       "      <td>40</td>\n",
       "      <td>United-States</td>\n",
       "      <td>&lt;=50K</td>\n",
       "    </tr>\n",
       "    <tr>\n",
       "      <th>1</th>\n",
       "      <td>50</td>\n",
       "      <td>Self-emp-not-inc</td>\n",
       "      <td>83311</td>\n",
       "      <td>Bachelors</td>\n",
       "      <td>13</td>\n",
       "      <td>Married-civ-spouse</td>\n",
       "      <td>Exec-managerial</td>\n",
       "      <td>Husband</td>\n",
       "      <td>White</td>\n",
       "      <td>Male</td>\n",
       "      <td>0</td>\n",
       "      <td>0</td>\n",
       "      <td>13</td>\n",
       "      <td>United-States</td>\n",
       "      <td>&lt;=50K</td>\n",
       "    </tr>\n",
       "    <tr>\n",
       "      <th>2</th>\n",
       "      <td>38</td>\n",
       "      <td>Private</td>\n",
       "      <td>215646</td>\n",
       "      <td>HS-grad</td>\n",
       "      <td>9</td>\n",
       "      <td>Divorced</td>\n",
       "      <td>Handlers-cleaners</td>\n",
       "      <td>Not-in-family</td>\n",
       "      <td>White</td>\n",
       "      <td>Male</td>\n",
       "      <td>0</td>\n",
       "      <td>0</td>\n",
       "      <td>40</td>\n",
       "      <td>United-States</td>\n",
       "      <td>&lt;=50K</td>\n",
       "    </tr>\n",
       "    <tr>\n",
       "      <th>3</th>\n",
       "      <td>53</td>\n",
       "      <td>Private</td>\n",
       "      <td>234721</td>\n",
       "      <td>11th</td>\n",
       "      <td>7</td>\n",
       "      <td>Married-civ-spouse</td>\n",
       "      <td>Handlers-cleaners</td>\n",
       "      <td>Husband</td>\n",
       "      <td>Black</td>\n",
       "      <td>Male</td>\n",
       "      <td>0</td>\n",
       "      <td>0</td>\n",
       "      <td>40</td>\n",
       "      <td>United-States</td>\n",
       "      <td>&lt;=50K</td>\n",
       "    </tr>\n",
       "    <tr>\n",
       "      <th>4</th>\n",
       "      <td>28</td>\n",
       "      <td>Private</td>\n",
       "      <td>338409</td>\n",
       "      <td>Bachelors</td>\n",
       "      <td>13</td>\n",
       "      <td>Married-civ-spouse</td>\n",
       "      <td>Prof-specialty</td>\n",
       "      <td>Wife</td>\n",
       "      <td>Black</td>\n",
       "      <td>Female</td>\n",
       "      <td>0</td>\n",
       "      <td>0</td>\n",
       "      <td>40</td>\n",
       "      <td>Cuba</td>\n",
       "      <td>&lt;=50K</td>\n",
       "    </tr>\n",
       "    <tr>\n",
       "      <th>...</th>\n",
       "      <td>...</td>\n",
       "      <td>...</td>\n",
       "      <td>...</td>\n",
       "      <td>...</td>\n",
       "      <td>...</td>\n",
       "      <td>...</td>\n",
       "      <td>...</td>\n",
       "      <td>...</td>\n",
       "      <td>...</td>\n",
       "      <td>...</td>\n",
       "      <td>...</td>\n",
       "      <td>...</td>\n",
       "      <td>...</td>\n",
       "      <td>...</td>\n",
       "      <td>...</td>\n",
       "    </tr>\n",
       "    <tr>\n",
       "      <th>48837</th>\n",
       "      <td>39</td>\n",
       "      <td>Private</td>\n",
       "      <td>215419</td>\n",
       "      <td>Bachelors</td>\n",
       "      <td>13</td>\n",
       "      <td>Divorced</td>\n",
       "      <td>Prof-specialty</td>\n",
       "      <td>Not-in-family</td>\n",
       "      <td>White</td>\n",
       "      <td>Female</td>\n",
       "      <td>0</td>\n",
       "      <td>0</td>\n",
       "      <td>36</td>\n",
       "      <td>United-States</td>\n",
       "      <td>&lt;=50K</td>\n",
       "    </tr>\n",
       "    <tr>\n",
       "      <th>48838</th>\n",
       "      <td>64</td>\n",
       "      <td>?</td>\n",
       "      <td>321403</td>\n",
       "      <td>HS-grad</td>\n",
       "      <td>9</td>\n",
       "      <td>Widowed</td>\n",
       "      <td>?</td>\n",
       "      <td>Other-relative</td>\n",
       "      <td>Black</td>\n",
       "      <td>Male</td>\n",
       "      <td>0</td>\n",
       "      <td>0</td>\n",
       "      <td>40</td>\n",
       "      <td>United-States</td>\n",
       "      <td>&lt;=50K</td>\n",
       "    </tr>\n",
       "    <tr>\n",
       "      <th>48839</th>\n",
       "      <td>38</td>\n",
       "      <td>Private</td>\n",
       "      <td>374983</td>\n",
       "      <td>Bachelors</td>\n",
       "      <td>13</td>\n",
       "      <td>Married-civ-spouse</td>\n",
       "      <td>Prof-specialty</td>\n",
       "      <td>Husband</td>\n",
       "      <td>White</td>\n",
       "      <td>Male</td>\n",
       "      <td>0</td>\n",
       "      <td>0</td>\n",
       "      <td>50</td>\n",
       "      <td>United-States</td>\n",
       "      <td>&lt;=50K</td>\n",
       "    </tr>\n",
       "    <tr>\n",
       "      <th>48840</th>\n",
       "      <td>44</td>\n",
       "      <td>Private</td>\n",
       "      <td>83891</td>\n",
       "      <td>Bachelors</td>\n",
       "      <td>13</td>\n",
       "      <td>Divorced</td>\n",
       "      <td>Adm-clerical</td>\n",
       "      <td>Own-child</td>\n",
       "      <td>Asian-Pac-Islander</td>\n",
       "      <td>Male</td>\n",
       "      <td>5455</td>\n",
       "      <td>0</td>\n",
       "      <td>40</td>\n",
       "      <td>United-States</td>\n",
       "      <td>&lt;=50K</td>\n",
       "    </tr>\n",
       "    <tr>\n",
       "      <th>48841</th>\n",
       "      <td>35</td>\n",
       "      <td>Self-emp-inc</td>\n",
       "      <td>182148</td>\n",
       "      <td>Bachelors</td>\n",
       "      <td>13</td>\n",
       "      <td>Married-civ-spouse</td>\n",
       "      <td>Exec-managerial</td>\n",
       "      <td>Husband</td>\n",
       "      <td>White</td>\n",
       "      <td>Male</td>\n",
       "      <td>0</td>\n",
       "      <td>0</td>\n",
       "      <td>60</td>\n",
       "      <td>United-States</td>\n",
       "      <td>&gt;50K</td>\n",
       "    </tr>\n",
       "  </tbody>\n",
       "</table>\n",
       "<p>48790 rows × 15 columns</p>\n",
       "</div>"
      ],
      "text/plain": [
       "       age         workclass  fnlwgt  education  education_num  \\\n",
       "0       39         State-gov   77516  Bachelors             13   \n",
       "1       50  Self-emp-not-inc   83311  Bachelors             13   \n",
       "2       38           Private  215646    HS-grad              9   \n",
       "3       53           Private  234721       11th              7   \n",
       "4       28           Private  338409  Bachelors             13   \n",
       "...    ...               ...     ...        ...            ...   \n",
       "48837   39           Private  215419  Bachelors             13   \n",
       "48838   64                 ?  321403    HS-grad              9   \n",
       "48839   38           Private  374983  Bachelors             13   \n",
       "48840   44           Private   83891  Bachelors             13   \n",
       "48841   35      Self-emp-inc  182148  Bachelors             13   \n",
       "\n",
       "           marital_status         occupation    relationship  \\\n",
       "0           Never-married       Adm-clerical   Not-in-family   \n",
       "1      Married-civ-spouse    Exec-managerial         Husband   \n",
       "2                Divorced  Handlers-cleaners   Not-in-family   \n",
       "3      Married-civ-spouse  Handlers-cleaners         Husband   \n",
       "4      Married-civ-spouse     Prof-specialty            Wife   \n",
       "...                   ...                ...             ...   \n",
       "48837            Divorced     Prof-specialty   Not-in-family   \n",
       "48838             Widowed                  ?  Other-relative   \n",
       "48839  Married-civ-spouse     Prof-specialty         Husband   \n",
       "48840            Divorced       Adm-clerical       Own-child   \n",
       "48841  Married-civ-spouse    Exec-managerial         Husband   \n",
       "\n",
       "                     race     sex  capital_gain  capital_loss  hours_per_week  \\\n",
       "0                   White    Male          2174             0              40   \n",
       "1                   White    Male             0             0              13   \n",
       "2                   White    Male             0             0              40   \n",
       "3                   Black    Male             0             0              40   \n",
       "4                   Black  Female             0             0              40   \n",
       "...                   ...     ...           ...           ...             ...   \n",
       "48837               White  Female             0             0              36   \n",
       "48838               Black    Male             0             0              40   \n",
       "48839               White    Male             0             0              50   \n",
       "48840  Asian-Pac-Islander    Male          5455             0              40   \n",
       "48841               White    Male             0             0              60   \n",
       "\n",
       "      native_country income  \n",
       "0      United-States  <=50K  \n",
       "1      United-States  <=50K  \n",
       "2      United-States  <=50K  \n",
       "3      United-States  <=50K  \n",
       "4               Cuba  <=50K  \n",
       "...              ...    ...  \n",
       "48837  United-States  <=50K  \n",
       "48838  United-States  <=50K  \n",
       "48839  United-States  <=50K  \n",
       "48840  United-States  <=50K  \n",
       "48841  United-States   >50K  \n",
       "\n",
       "[48790 rows x 15 columns]"
      ]
     },
     "execution_count": 12,
     "metadata": {},
     "output_type": "execute_result"
    }
   ],
   "source": [
    "combined_df"
   ]
  },
  {
   "cell_type": "code",
   "execution_count": 13,
   "metadata": {},
   "outputs": [
    {
     "name": "stdout",
     "output_type": "stream",
     "text": [
      "Number of cells with '?': 6456\n"
     ]
    }
   ],
   "source": [
    "#checking for ? in our DataFrame\n",
    "empty_cells= combined_df.isin(['?']).sum().sum()\n",
    "print(f\"Number of cells with '?': {empty_cells}\")\n",
    "\n",
    "        "
   ]
  },
  {
   "cell_type": "markdown",
   "metadata": {},
   "source": [
    "From our dataset we have realised we some missing values which are occupied by question marks.\n",
    "From our code we havemanage to obtain the count of records in our dataset."
   ]
  },
  {
   "cell_type": "code",
   "execution_count": 14,
   "metadata": {},
   "outputs": [
    {
     "name": "stdout",
     "output_type": "stream",
     "text": [
      "Counts of null values in each column after replacement:\n",
      "workclass         2795\n",
      "occupation        2805\n",
      "native_country     856\n",
      "dtype: int64\n"
     ]
    }
   ],
   "source": [
    "#replace '?' with NaN\n",
    "combined_df.replace('?', np.nan, inplace=True)\n",
    "# Check for any remaining null values after replacement\n",
    "null_counts = combined_df.isnull().sum()\n",
    "print(\"Counts of null values in each column after replacement:\")\n",
    "print(null_counts[null_counts > 0])\n"
   ]
  },
  {
   "cell_type": "markdown",
   "metadata": {},
   "source": [
    "Here we want to known which columns are occuppied by the *?* hence we use the code to see the division among columns .\n"
   ]
  },
  {
   "cell_type": "code",
   "execution_count": 15,
   "metadata": {},
   "outputs": [
    {
     "name": "stdout",
     "output_type": "stream",
     "text": [
      "Percentage of missing values in 'workclass': 5.73%\n",
      "Percentage of missing values in 'occupation': 5.75%\n",
      "Percentage of missing values in 'native_country': 1.75%\n"
     ]
    }
   ],
   "source": [
    "#calculate the percentage of missing values in each column in relation to the whole dataset\n",
    "#missing percentage for workclass\n",
    "workingclass_missing_percentage = (combined_df['workclass'].isnull().sum() / len(combined_df)) * 100\n",
    "print(f\"Percentage of missing values in 'workclass': {workingclass_missing_percentage:.2f}%\")\n",
    "#missing percentage for occupation\n",
    "occupation_missing_percentage = (combined_df['occupation'].isnull().sum() / len(combined_df)) * 100\n",
    "print(f\"Percentage of missing values in 'occupation': {occupation_missing_percentage:.2f}%\")\n",
    "#missing percentage for native_country\n",
    "native_country_missing_percentage = (combined_df['native_country'].isnull().sum() / len(combined_df)) * 100\n",
    "print(f\"Percentage of missing values in 'native_country': {native_country_missing_percentage:.2f}%\")\n",
    "\n"
   ]
  },
  {
   "cell_type": "markdown",
   "metadata": {},
   "source": [
    "Since the Missing percentages are low we opt to keep the missing values and replace them with unkown which might be useful for future process."
   ]
  },
  {
   "cell_type": "code",
   "execution_count": 16,
   "metadata": {},
   "outputs": [],
   "source": [
    "for col in [\"workclass\", \"occupation\", \"native_country\"]:\n",
    "    combined_df[col].fillna(\"Unknown\", inplace=True)\n"
   ]
  },
  {
   "cell_type": "markdown",
   "metadata": {},
   "source": [
    "Here we have done the replacement.\n"
   ]
  },
  {
   "cell_type": "code",
   "execution_count": 17,
   "metadata": {},
   "outputs": [
    {
     "data": {
      "text/html": [
       "<div>\n",
       "<style scoped>\n",
       "    .dataframe tbody tr th:only-of-type {\n",
       "        vertical-align: middle;\n",
       "    }\n",
       "\n",
       "    .dataframe tbody tr th {\n",
       "        vertical-align: top;\n",
       "    }\n",
       "\n",
       "    .dataframe thead th {\n",
       "        text-align: right;\n",
       "    }\n",
       "</style>\n",
       "<table border=\"1\" class=\"dataframe\">\n",
       "  <thead>\n",
       "    <tr style=\"text-align: right;\">\n",
       "      <th></th>\n",
       "      <th>age</th>\n",
       "      <th>workclass</th>\n",
       "      <th>fnlwgt</th>\n",
       "      <th>education</th>\n",
       "      <th>education_num</th>\n",
       "      <th>marital_status</th>\n",
       "      <th>occupation</th>\n",
       "      <th>relationship</th>\n",
       "      <th>race</th>\n",
       "      <th>sex</th>\n",
       "      <th>capital_gain</th>\n",
       "      <th>capital_loss</th>\n",
       "      <th>hours_per_week</th>\n",
       "      <th>native_country</th>\n",
       "      <th>income</th>\n",
       "    </tr>\n",
       "  </thead>\n",
       "  <tbody>\n",
       "    <tr>\n",
       "      <th>0</th>\n",
       "      <td>39</td>\n",
       "      <td>State-gov</td>\n",
       "      <td>77516</td>\n",
       "      <td>Bachelors</td>\n",
       "      <td>13</td>\n",
       "      <td>Never-married</td>\n",
       "      <td>Adm-clerical</td>\n",
       "      <td>Not-in-family</td>\n",
       "      <td>White</td>\n",
       "      <td>Male</td>\n",
       "      <td>2174</td>\n",
       "      <td>0</td>\n",
       "      <td>40</td>\n",
       "      <td>United-States</td>\n",
       "      <td>&lt;=50K</td>\n",
       "    </tr>\n",
       "    <tr>\n",
       "      <th>1</th>\n",
       "      <td>50</td>\n",
       "      <td>Self-emp-not-inc</td>\n",
       "      <td>83311</td>\n",
       "      <td>Bachelors</td>\n",
       "      <td>13</td>\n",
       "      <td>Married-civ-spouse</td>\n",
       "      <td>Exec-managerial</td>\n",
       "      <td>Husband</td>\n",
       "      <td>White</td>\n",
       "      <td>Male</td>\n",
       "      <td>0</td>\n",
       "      <td>0</td>\n",
       "      <td>13</td>\n",
       "      <td>United-States</td>\n",
       "      <td>&lt;=50K</td>\n",
       "    </tr>\n",
       "    <tr>\n",
       "      <th>2</th>\n",
       "      <td>38</td>\n",
       "      <td>Private</td>\n",
       "      <td>215646</td>\n",
       "      <td>HS-grad</td>\n",
       "      <td>9</td>\n",
       "      <td>Divorced</td>\n",
       "      <td>Handlers-cleaners</td>\n",
       "      <td>Not-in-family</td>\n",
       "      <td>White</td>\n",
       "      <td>Male</td>\n",
       "      <td>0</td>\n",
       "      <td>0</td>\n",
       "      <td>40</td>\n",
       "      <td>United-States</td>\n",
       "      <td>&lt;=50K</td>\n",
       "    </tr>\n",
       "    <tr>\n",
       "      <th>3</th>\n",
       "      <td>53</td>\n",
       "      <td>Private</td>\n",
       "      <td>234721</td>\n",
       "      <td>11th</td>\n",
       "      <td>7</td>\n",
       "      <td>Married-civ-spouse</td>\n",
       "      <td>Handlers-cleaners</td>\n",
       "      <td>Husband</td>\n",
       "      <td>Black</td>\n",
       "      <td>Male</td>\n",
       "      <td>0</td>\n",
       "      <td>0</td>\n",
       "      <td>40</td>\n",
       "      <td>United-States</td>\n",
       "      <td>&lt;=50K</td>\n",
       "    </tr>\n",
       "    <tr>\n",
       "      <th>4</th>\n",
       "      <td>28</td>\n",
       "      <td>Private</td>\n",
       "      <td>338409</td>\n",
       "      <td>Bachelors</td>\n",
       "      <td>13</td>\n",
       "      <td>Married-civ-spouse</td>\n",
       "      <td>Prof-specialty</td>\n",
       "      <td>Wife</td>\n",
       "      <td>Black</td>\n",
       "      <td>Female</td>\n",
       "      <td>0</td>\n",
       "      <td>0</td>\n",
       "      <td>40</td>\n",
       "      <td>Cuba</td>\n",
       "      <td>&lt;=50K</td>\n",
       "    </tr>\n",
       "    <tr>\n",
       "      <th>...</th>\n",
       "      <td>...</td>\n",
       "      <td>...</td>\n",
       "      <td>...</td>\n",
       "      <td>...</td>\n",
       "      <td>...</td>\n",
       "      <td>...</td>\n",
       "      <td>...</td>\n",
       "      <td>...</td>\n",
       "      <td>...</td>\n",
       "      <td>...</td>\n",
       "      <td>...</td>\n",
       "      <td>...</td>\n",
       "      <td>...</td>\n",
       "      <td>...</td>\n",
       "      <td>...</td>\n",
       "    </tr>\n",
       "    <tr>\n",
       "      <th>48837</th>\n",
       "      <td>39</td>\n",
       "      <td>Private</td>\n",
       "      <td>215419</td>\n",
       "      <td>Bachelors</td>\n",
       "      <td>13</td>\n",
       "      <td>Divorced</td>\n",
       "      <td>Prof-specialty</td>\n",
       "      <td>Not-in-family</td>\n",
       "      <td>White</td>\n",
       "      <td>Female</td>\n",
       "      <td>0</td>\n",
       "      <td>0</td>\n",
       "      <td>36</td>\n",
       "      <td>United-States</td>\n",
       "      <td>&lt;=50K</td>\n",
       "    </tr>\n",
       "    <tr>\n",
       "      <th>48838</th>\n",
       "      <td>64</td>\n",
       "      <td>Unknown</td>\n",
       "      <td>321403</td>\n",
       "      <td>HS-grad</td>\n",
       "      <td>9</td>\n",
       "      <td>Widowed</td>\n",
       "      <td>Unknown</td>\n",
       "      <td>Other-relative</td>\n",
       "      <td>Black</td>\n",
       "      <td>Male</td>\n",
       "      <td>0</td>\n",
       "      <td>0</td>\n",
       "      <td>40</td>\n",
       "      <td>United-States</td>\n",
       "      <td>&lt;=50K</td>\n",
       "    </tr>\n",
       "    <tr>\n",
       "      <th>48839</th>\n",
       "      <td>38</td>\n",
       "      <td>Private</td>\n",
       "      <td>374983</td>\n",
       "      <td>Bachelors</td>\n",
       "      <td>13</td>\n",
       "      <td>Married-civ-spouse</td>\n",
       "      <td>Prof-specialty</td>\n",
       "      <td>Husband</td>\n",
       "      <td>White</td>\n",
       "      <td>Male</td>\n",
       "      <td>0</td>\n",
       "      <td>0</td>\n",
       "      <td>50</td>\n",
       "      <td>United-States</td>\n",
       "      <td>&lt;=50K</td>\n",
       "    </tr>\n",
       "    <tr>\n",
       "      <th>48840</th>\n",
       "      <td>44</td>\n",
       "      <td>Private</td>\n",
       "      <td>83891</td>\n",
       "      <td>Bachelors</td>\n",
       "      <td>13</td>\n",
       "      <td>Divorced</td>\n",
       "      <td>Adm-clerical</td>\n",
       "      <td>Own-child</td>\n",
       "      <td>Asian-Pac-Islander</td>\n",
       "      <td>Male</td>\n",
       "      <td>5455</td>\n",
       "      <td>0</td>\n",
       "      <td>40</td>\n",
       "      <td>United-States</td>\n",
       "      <td>&lt;=50K</td>\n",
       "    </tr>\n",
       "    <tr>\n",
       "      <th>48841</th>\n",
       "      <td>35</td>\n",
       "      <td>Self-emp-inc</td>\n",
       "      <td>182148</td>\n",
       "      <td>Bachelors</td>\n",
       "      <td>13</td>\n",
       "      <td>Married-civ-spouse</td>\n",
       "      <td>Exec-managerial</td>\n",
       "      <td>Husband</td>\n",
       "      <td>White</td>\n",
       "      <td>Male</td>\n",
       "      <td>0</td>\n",
       "      <td>0</td>\n",
       "      <td>60</td>\n",
       "      <td>United-States</td>\n",
       "      <td>&gt;50K</td>\n",
       "    </tr>\n",
       "  </tbody>\n",
       "</table>\n",
       "<p>48790 rows × 15 columns</p>\n",
       "</div>"
      ],
      "text/plain": [
       "       age         workclass  fnlwgt  education  education_num  \\\n",
       "0       39         State-gov   77516  Bachelors             13   \n",
       "1       50  Self-emp-not-inc   83311  Bachelors             13   \n",
       "2       38           Private  215646    HS-grad              9   \n",
       "3       53           Private  234721       11th              7   \n",
       "4       28           Private  338409  Bachelors             13   \n",
       "...    ...               ...     ...        ...            ...   \n",
       "48837   39           Private  215419  Bachelors             13   \n",
       "48838   64           Unknown  321403    HS-grad              9   \n",
       "48839   38           Private  374983  Bachelors             13   \n",
       "48840   44           Private   83891  Bachelors             13   \n",
       "48841   35      Self-emp-inc  182148  Bachelors             13   \n",
       "\n",
       "           marital_status         occupation    relationship  \\\n",
       "0           Never-married       Adm-clerical   Not-in-family   \n",
       "1      Married-civ-spouse    Exec-managerial         Husband   \n",
       "2                Divorced  Handlers-cleaners   Not-in-family   \n",
       "3      Married-civ-spouse  Handlers-cleaners         Husband   \n",
       "4      Married-civ-spouse     Prof-specialty            Wife   \n",
       "...                   ...                ...             ...   \n",
       "48837            Divorced     Prof-specialty   Not-in-family   \n",
       "48838             Widowed            Unknown  Other-relative   \n",
       "48839  Married-civ-spouse     Prof-specialty         Husband   \n",
       "48840            Divorced       Adm-clerical       Own-child   \n",
       "48841  Married-civ-spouse    Exec-managerial         Husband   \n",
       "\n",
       "                     race     sex  capital_gain  capital_loss  hours_per_week  \\\n",
       "0                   White    Male          2174             0              40   \n",
       "1                   White    Male             0             0              13   \n",
       "2                   White    Male             0             0              40   \n",
       "3                   Black    Male             0             0              40   \n",
       "4                   Black  Female             0             0              40   \n",
       "...                   ...     ...           ...           ...             ...   \n",
       "48837               White  Female             0             0              36   \n",
       "48838               Black    Male             0             0              40   \n",
       "48839               White    Male             0             0              50   \n",
       "48840  Asian-Pac-Islander    Male          5455             0              40   \n",
       "48841               White    Male             0             0              60   \n",
       "\n",
       "      native_country income  \n",
       "0      United-States  <=50K  \n",
       "1      United-States  <=50K  \n",
       "2      United-States  <=50K  \n",
       "3      United-States  <=50K  \n",
       "4               Cuba  <=50K  \n",
       "...              ...    ...  \n",
       "48837  United-States  <=50K  \n",
       "48838  United-States  <=50K  \n",
       "48839  United-States  <=50K  \n",
       "48840  United-States  <=50K  \n",
       "48841  United-States   >50K  \n",
       "\n",
       "[48790 rows x 15 columns]"
      ]
     },
     "execution_count": 17,
     "metadata": {},
     "output_type": "execute_result"
    }
   ],
   "source": [
    "combined_df"
   ]
  },
  {
   "cell_type": "markdown",
   "metadata": {},
   "source": [
    "We have confirm the replacement has been done to our dataset."
   ]
  },
  {
   "cell_type": "code",
   "execution_count": 18,
   "metadata": {},
   "outputs": [
    {
     "data": {
      "text/html": [
       "<div>\n",
       "<style scoped>\n",
       "    .dataframe tbody tr th:only-of-type {\n",
       "        vertical-align: middle;\n",
       "    }\n",
       "\n",
       "    .dataframe tbody tr th {\n",
       "        vertical-align: top;\n",
       "    }\n",
       "\n",
       "    .dataframe thead th {\n",
       "        text-align: right;\n",
       "    }\n",
       "</style>\n",
       "<table border=\"1\" class=\"dataframe\">\n",
       "  <thead>\n",
       "    <tr style=\"text-align: right;\">\n",
       "      <th></th>\n",
       "      <th>count</th>\n",
       "      <th>mean</th>\n",
       "      <th>std</th>\n",
       "      <th>min</th>\n",
       "      <th>25%</th>\n",
       "      <th>50%</th>\n",
       "      <th>75%</th>\n",
       "      <th>max</th>\n",
       "    </tr>\n",
       "  </thead>\n",
       "  <tbody>\n",
       "    <tr>\n",
       "      <th>age</th>\n",
       "      <td>48790.0</td>\n",
       "      <td>38.652798</td>\n",
       "      <td>13.708493</td>\n",
       "      <td>17.0</td>\n",
       "      <td>28.0</td>\n",
       "      <td>37.0</td>\n",
       "      <td>48.00</td>\n",
       "      <td>90.0</td>\n",
       "    </tr>\n",
       "    <tr>\n",
       "      <th>fnlwgt</th>\n",
       "      <td>48790.0</td>\n",
       "      <td>189668.999365</td>\n",
       "      <td>105617.231232</td>\n",
       "      <td>12285.0</td>\n",
       "      <td>117555.0</td>\n",
       "      <td>178138.5</td>\n",
       "      <td>237606.25</td>\n",
       "      <td>1490400.0</td>\n",
       "    </tr>\n",
       "    <tr>\n",
       "      <th>education_num</th>\n",
       "      <td>48790.0</td>\n",
       "      <td>10.078807</td>\n",
       "      <td>2.570046</td>\n",
       "      <td>1.0</td>\n",
       "      <td>9.0</td>\n",
       "      <td>10.0</td>\n",
       "      <td>12.00</td>\n",
       "      <td>16.0</td>\n",
       "    </tr>\n",
       "    <tr>\n",
       "      <th>capital_gain</th>\n",
       "      <td>48790.0</td>\n",
       "      <td>1080.217688</td>\n",
       "      <td>7455.905921</td>\n",
       "      <td>0.0</td>\n",
       "      <td>0.0</td>\n",
       "      <td>0.0</td>\n",
       "      <td>0.00</td>\n",
       "      <td>99999.0</td>\n",
       "    </tr>\n",
       "    <tr>\n",
       "      <th>capital_loss</th>\n",
       "      <td>48790.0</td>\n",
       "      <td>87.595573</td>\n",
       "      <td>403.209129</td>\n",
       "      <td>0.0</td>\n",
       "      <td>0.0</td>\n",
       "      <td>0.0</td>\n",
       "      <td>0.00</td>\n",
       "      <td>4356.0</td>\n",
       "    </tr>\n",
       "    <tr>\n",
       "      <th>hours_per_week</th>\n",
       "      <td>48790.0</td>\n",
       "      <td>40.425886</td>\n",
       "      <td>12.392729</td>\n",
       "      <td>1.0</td>\n",
       "      <td>40.0</td>\n",
       "      <td>40.0</td>\n",
       "      <td>45.00</td>\n",
       "      <td>99.0</td>\n",
       "    </tr>\n",
       "  </tbody>\n",
       "</table>\n",
       "</div>"
      ],
      "text/plain": [
       "                  count           mean            std      min       25%  \\\n",
       "age             48790.0      38.652798      13.708493     17.0      28.0   \n",
       "fnlwgt          48790.0  189668.999365  105617.231232  12285.0  117555.0   \n",
       "education_num   48790.0      10.078807       2.570046      1.0       9.0   \n",
       "capital_gain    48790.0    1080.217688    7455.905921      0.0       0.0   \n",
       "capital_loss    48790.0      87.595573     403.209129      0.0       0.0   \n",
       "hours_per_week  48790.0      40.425886      12.392729      1.0      40.0   \n",
       "\n",
       "                     50%        75%        max  \n",
       "age                 37.0      48.00       90.0  \n",
       "fnlwgt          178138.5  237606.25  1490400.0  \n",
       "education_num       10.0      12.00       16.0  \n",
       "capital_gain         0.0       0.00    99999.0  \n",
       "capital_loss         0.0       0.00     4356.0  \n",
       "hours_per_week      40.0      45.00       99.0  "
      ]
     },
     "execution_count": 18,
     "metadata": {},
     "output_type": "execute_result"
    }
   ],
   "source": [
    "# Find summary statistics of the DataFrame\n",
    "# This will give us a quick overview of the numerical columns\n",
    "combined_df.describe().T"
   ]
  },
  {
   "cell_type": "markdown",
   "metadata": {},
   "source": [
    "### Observation \n",
    "From our summary statistics we establish the average age of the adult income is 38 yrs\n",
    "\n",
    "We can also see the average working hours from our dataset is 40 hours per week\n",
    "\n",
    "Here we deal with only numeric values.\n"
   ]
  },
  {
   "cell_type": "code",
   "execution_count": 19,
   "metadata": {},
   "outputs": [
    {
     "data": {
      "text/html": [
       "<div>\n",
       "<style scoped>\n",
       "    .dataframe tbody tr th:only-of-type {\n",
       "        vertical-align: middle;\n",
       "    }\n",
       "\n",
       "    .dataframe tbody tr th {\n",
       "        vertical-align: top;\n",
       "    }\n",
       "\n",
       "    .dataframe thead th {\n",
       "        text-align: right;\n",
       "    }\n",
       "</style>\n",
       "<table border=\"1\" class=\"dataframe\">\n",
       "  <thead>\n",
       "    <tr style=\"text-align: right;\">\n",
       "      <th></th>\n",
       "      <th>age</th>\n",
       "      <th>fnlwgt</th>\n",
       "      <th>education_num</th>\n",
       "      <th>capital_gain</th>\n",
       "      <th>capital_loss</th>\n",
       "      <th>hours_per_week</th>\n",
       "      <th>income_numeric</th>\n",
       "    </tr>\n",
       "  </thead>\n",
       "  <tbody>\n",
       "    <tr>\n",
       "      <th>age</th>\n",
       "      <td>1.000000</td>\n",
       "      <td>-0.076451</td>\n",
       "      <td>0.030635</td>\n",
       "      <td>0.077185</td>\n",
       "      <td>0.056838</td>\n",
       "      <td>0.071223</td>\n",
       "      <td>0.230144</td>\n",
       "    </tr>\n",
       "    <tr>\n",
       "      <th>fnlwgt</th>\n",
       "      <td>-0.076451</td>\n",
       "      <td>1.000000</td>\n",
       "      <td>-0.038727</td>\n",
       "      <td>-0.003715</td>\n",
       "      <td>-0.004378</td>\n",
       "      <td>-0.013521</td>\n",
       "      <td>-0.006309</td>\n",
       "    </tr>\n",
       "    <tr>\n",
       "      <th>education_num</th>\n",
       "      <td>0.030635</td>\n",
       "      <td>-0.038727</td>\n",
       "      <td>1.000000</td>\n",
       "      <td>0.125219</td>\n",
       "      <td>0.080986</td>\n",
       "      <td>0.143915</td>\n",
       "      <td>0.332802</td>\n",
       "    </tr>\n",
       "    <tr>\n",
       "      <th>capital_gain</th>\n",
       "      <td>0.077185</td>\n",
       "      <td>-0.003715</td>\n",
       "      <td>0.125219</td>\n",
       "      <td>1.000000</td>\n",
       "      <td>-0.031475</td>\n",
       "      <td>0.082152</td>\n",
       "      <td>0.223047</td>\n",
       "    </tr>\n",
       "    <tr>\n",
       "      <th>capital_loss</th>\n",
       "      <td>0.056838</td>\n",
       "      <td>-0.004378</td>\n",
       "      <td>0.080986</td>\n",
       "      <td>-0.031475</td>\n",
       "      <td>1.000000</td>\n",
       "      <td>0.054431</td>\n",
       "      <td>0.147542</td>\n",
       "    </tr>\n",
       "    <tr>\n",
       "      <th>hours_per_week</th>\n",
       "      <td>0.071223</td>\n",
       "      <td>-0.013521</td>\n",
       "      <td>0.143915</td>\n",
       "      <td>0.082152</td>\n",
       "      <td>0.054431</td>\n",
       "      <td>1.000000</td>\n",
       "      <td>0.227664</td>\n",
       "    </tr>\n",
       "    <tr>\n",
       "      <th>income_numeric</th>\n",
       "      <td>0.230144</td>\n",
       "      <td>-0.006309</td>\n",
       "      <td>0.332802</td>\n",
       "      <td>0.223047</td>\n",
       "      <td>0.147542</td>\n",
       "      <td>0.227664</td>\n",
       "      <td>1.000000</td>\n",
       "    </tr>\n",
       "  </tbody>\n",
       "</table>\n",
       "</div>"
      ],
      "text/plain": [
       "                     age    fnlwgt  education_num  capital_gain  capital_loss  \\\n",
       "age             1.000000 -0.076451       0.030635      0.077185      0.056838   \n",
       "fnlwgt         -0.076451  1.000000      -0.038727     -0.003715     -0.004378   \n",
       "education_num   0.030635 -0.038727       1.000000      0.125219      0.080986   \n",
       "capital_gain    0.077185 -0.003715       0.125219      1.000000     -0.031475   \n",
       "capital_loss    0.056838 -0.004378       0.080986     -0.031475      1.000000   \n",
       "hours_per_week  0.071223 -0.013521       0.143915      0.082152      0.054431   \n",
       "income_numeric  0.230144 -0.006309       0.332802      0.223047      0.147542   \n",
       "\n",
       "                hours_per_week  income_numeric  \n",
       "age                   0.071223        0.230144  \n",
       "fnlwgt               -0.013521       -0.006309  \n",
       "education_num         0.143915        0.332802  \n",
       "capital_gain          0.082152        0.223047  \n",
       "capital_loss          0.054431        0.147542  \n",
       "hours_per_week        1.000000        0.227664  \n",
       "income_numeric        0.227664        1.000000  "
      ]
     },
     "execution_count": 19,
     "metadata": {},
     "output_type": "execute_result"
    }
   ],
   "source": [
    "combined_df['income_numeric'] = combined_df['income'].map({'<=50K': 0, '>50K': 1})\n",
    "\n",
    "corr_matrix = combined_df.corr()\n",
    "corr_matrix"
   ]
  },
  {
   "cell_type": "markdown",
   "metadata": {},
   "source": [
    "The above  is our Pearson correlation matrix between each numeric feature and our target (\"income\") which is converted into binary.\n",
    "From our output we can see 'education_num' with the highest positive correalation(0.3326) with earning >50k implying more years of schooling converts to higher income.\n",
    "\n",
    "Other features contributing moderately positively to higher income are 'age'(0.2304), 'hours_per_week'(0.2277) and 'capital_gain'(0.2230) respectively ."
   ]
  },
  {
   "cell_type": "code",
   "execution_count": 20,
   "metadata": {},
   "outputs": [
    {
     "name": "stdout",
     "output_type": "stream",
     "text": [
      "                            OLS Regression Results                            \n",
      "==============================================================================\n",
      "Dep. Variable:         income_numeric   R-squared:                       0.224\n",
      "Model:                            OLS   Adj. R-squared:                  0.224\n",
      "Method:                 Least Squares   F-statistic:                     2816.\n",
      "Date:                Tue, 10 Jun 2025   Prob (F-statistic):               0.00\n",
      "Time:                        07:49:23   Log-Likelihood:                -21493.\n",
      "No. Observations:               48790   AIC:                         4.300e+04\n",
      "Df Residuals:                   48784   BIC:                         4.305e+04\n",
      "Df Model:                           5                                         \n",
      "Covariance Type:            nonrobust                                         \n",
      "==================================================================================\n",
      "                     coef    std err          t      P>|t|      [0.025      0.975]\n",
      "----------------------------------------------------------------------------------\n",
      "const             -0.6875      0.009    -72.765      0.000      -0.706      -0.669\n",
      "age                0.0060      0.000     47.735      0.000       0.006       0.006\n",
      "education_num      0.0457      0.001     67.577      0.000       0.044       0.047\n",
      "capital_gain     9.42e-06   2.31e-07     40.707      0.000    8.97e-06    9.87e-06\n",
      "capital_loss       0.0001   4.25e-06     27.675      0.000       0.000       0.000\n",
      "hours_per_week     0.0053      0.000     38.231      0.000       0.005       0.006\n",
      "==============================================================================\n",
      "Omnibus:                     5183.646   Durbin-Watson:                   2.007\n",
      "Prob(Omnibus):                  0.000   Jarque-Bera (JB):             6788.795\n",
      "Skew:                           0.901   Prob(JB):                         0.00\n",
      "Kurtosis:                       2.697   Cond. No.                     4.19e+04\n",
      "==============================================================================\n",
      "\n",
      "Notes:\n",
      "[1] Standard Errors assume that the covariance matrix of the errors is correctly specified.\n",
      "[2] The condition number is large, 4.19e+04. This might indicate that there are\n",
      "strong multicollinearity or other numerical problems.\n"
     ]
    }
   ],
   "source": [
    "features = [\"age\", \"education_num\", \"capital_gain\", \"capital_loss\", \"hours_per_week\"]\n",
    "\n",
    "x = combined_df[features]\n",
    "y = combined_df['income_numeric']\n",
    "\n",
    "import statsmodels.api as sm\n",
    "# Add a constant to the features for the intercept term \n",
    "x_with_const = sm.add_constant(x)\n",
    "# Fit the logistic regression model\n",
    "model  = sm.OLS(y, x_with_const)\n",
    "result = model.fit()\n",
    "# Print the summary of the model\n",
    "print(result.summary())\n",
    "\n",
    "\n"
   ]
  },
  {
   "cell_type": "markdown",
   "metadata": {},
   "source": [
    "#### Obsevation\n",
    "The model is statistically significant and the chosen features do explain a portion(22.4%)of the variance in income_numeric. However, the low R-squared suggests that there are many other factors influencing income that are not captured by this model. The non-normal residuals and the potential presence of multicollinearity (due to the high condition number) are points that should be further investigated to ensure the robustness and interpretability of the model. "
   ]
  },
  {
   "cell_type": "code",
   "execution_count": 21,
   "metadata": {},
   "outputs": [
    {
     "data": {
      "image/png": "[encoded data removed]",
      "text/plain": [
       "<Figure size 864x432 with 1 Axes>"
      ]
     },
     "metadata": {},
     "output_type": "display_data"
    }
   ],
   "source": [
    "#plotting education level against income\n",
    "plt.figure(figsize=(12, 6))\n",
    "sns.countplot(data=combined_df, x='education', hue='income', order=combined_df['education'].value_counts().index)\n",
    "plt.title('Gaph 1: Income Distribution by Education Level', fontsize=16) \n",
    "plt.xlabel('Education Level')\n",
    "plt.ylabel('Count')\n",
    "plt.xticks(rotation=45)\n",
    "plt.legend(title='Income')\n",
    "plt.tight_layout()\n",
    "plt.show()\n"
   ]
  },
  {
   "cell_type": "markdown",
   "metadata": {},
   "source": [
    "From graph 1 we see the relationship between  education level and income which shows the influence implicated by education level . \n",
    "\n",
    "As we can people who reach masters level are more likely to earn above 50K threshold same applies to to that attend professional schools.\n",
    "\n",
    "This data can help an employer who is new in the field know the rough expectation of his employes while keeping other factors constant"
   ]
  },
  {
   "cell_type": "code",
   "execution_count": 22,
   "metadata": {},
   "outputs": [
    {
     "data": {
      "image/png": "[encoded data removed]",
      "text/plain": [
       "<Figure size 864x432 with 1 Axes>"
      ]
     },
     "metadata": {},
     "output_type": "display_data"
    }
   ],
   "source": [
    "#plotting occupation against income\n",
    "plt.figure(figsize=(12, 6))\n",
    "sns.countplot(data=combined_df, x='occupation', hue='income', order=combined_df['occupation'].value_counts().index)\n",
    "plt.title('Graph 2: Income Distribution by Occupation', fontsize = 16)\n",
    "plt.xlabel('Occupation')\n",
    "plt.ylabel('Count')\n",
    "plt.xticks(rotation=45)\n",
    "plt.legend(title='Income')\n",
    "plt.tight_layout()\n",
    "plt.show()\n"
   ]
  },
  {
   "cell_type": "markdown",
   "metadata": {},
   "source": [
    "here we study the occcupation in relation to income.\n",
    "\n",
    "Keeping other factors constant prof-speciality  and exec-managerial seem to be the occupation where most people earn over 50K in our graph. \n",
    "\n",
    "Despite that There are still Higher number earning less than 50K in the same occupation which calls for more study to find the underlying reason."
   ]
  },
  {
   "cell_type": "code",
   "execution_count": 23,
   "metadata": {},
   "outputs": [
    {
     "data": {
      "text/html": [
       "<div>\n",
       "<style scoped>\n",
       "    .dataframe tbody tr th:only-of-type {\n",
       "        vertical-align: middle;\n",
       "    }\n",
       "\n",
       "    .dataframe tbody tr th {\n",
       "        vertical-align: top;\n",
       "    }\n",
       "\n",
       "    .dataframe thead th {\n",
       "        text-align: right;\n",
       "    }\n",
       "</style>\n",
       "<table border=\"1\" class=\"dataframe\">\n",
       "  <thead>\n",
       "    <tr style=\"text-align: right;\">\n",
       "      <th></th>\n",
       "      <th>age</th>\n",
       "      <th>workclass</th>\n",
       "      <th>fnlwgt</th>\n",
       "      <th>education</th>\n",
       "      <th>education_num</th>\n",
       "      <th>marital_status</th>\n",
       "      <th>occupation</th>\n",
       "      <th>relationship</th>\n",
       "      <th>race</th>\n",
       "      <th>sex</th>\n",
       "      <th>capital_gain</th>\n",
       "      <th>capital_loss</th>\n",
       "      <th>hours_per_week</th>\n",
       "      <th>native_country</th>\n",
       "      <th>income</th>\n",
       "      <th>income_numeric</th>\n",
       "    </tr>\n",
       "  </thead>\n",
       "  <tbody>\n",
       "    <tr>\n",
       "      <th>0</th>\n",
       "      <td>39</td>\n",
       "      <td>State-gov</td>\n",
       "      <td>77516</td>\n",
       "      <td>Bachelors</td>\n",
       "      <td>13</td>\n",
       "      <td>Never-married</td>\n",
       "      <td>Adm-clerical</td>\n",
       "      <td>Not-in-family</td>\n",
       "      <td>White</td>\n",
       "      <td>Male</td>\n",
       "      <td>2174</td>\n",
       "      <td>0</td>\n",
       "      <td>40</td>\n",
       "      <td>United-States</td>\n",
       "      <td>&lt;=50K</td>\n",
       "      <td>0</td>\n",
       "    </tr>\n",
       "    <tr>\n",
       "      <th>1</th>\n",
       "      <td>50</td>\n",
       "      <td>Self-emp-not-inc</td>\n",
       "      <td>83311</td>\n",
       "      <td>Bachelors</td>\n",
       "      <td>13</td>\n",
       "      <td>Married-civ-spouse</td>\n",
       "      <td>Exec-managerial</td>\n",
       "      <td>Husband</td>\n",
       "      <td>White</td>\n",
       "      <td>Male</td>\n",
       "      <td>0</td>\n",
       "      <td>0</td>\n",
       "      <td>13</td>\n",
       "      <td>United-States</td>\n",
       "      <td>&lt;=50K</td>\n",
       "      <td>0</td>\n",
       "    </tr>\n",
       "    <tr>\n",
       "      <th>2</th>\n",
       "      <td>38</td>\n",
       "      <td>Private</td>\n",
       "      <td>215646</td>\n",
       "      <td>HS-grad</td>\n",
       "      <td>9</td>\n",
       "      <td>Divorced</td>\n",
       "      <td>Handlers-cleaners</td>\n",
       "      <td>Not-in-family</td>\n",
       "      <td>White</td>\n",
       "      <td>Male</td>\n",
       "      <td>0</td>\n",
       "      <td>0</td>\n",
       "      <td>40</td>\n",
       "      <td>United-States</td>\n",
       "      <td>&lt;=50K</td>\n",
       "      <td>0</td>\n",
       "    </tr>\n",
       "    <tr>\n",
       "      <th>3</th>\n",
       "      <td>53</td>\n",
       "      <td>Private</td>\n",
       "      <td>234721</td>\n",
       "      <td>11th</td>\n",
       "      <td>7</td>\n",
       "      <td>Married-civ-spouse</td>\n",
       "      <td>Handlers-cleaners</td>\n",
       "      <td>Husband</td>\n",
       "      <td>Black</td>\n",
       "      <td>Male</td>\n",
       "      <td>0</td>\n",
       "      <td>0</td>\n",
       "      <td>40</td>\n",
       "      <td>United-States</td>\n",
       "      <td>&lt;=50K</td>\n",
       "      <td>0</td>\n",
       "    </tr>\n",
       "    <tr>\n",
       "      <th>4</th>\n",
       "      <td>28</td>\n",
       "      <td>Private</td>\n",
       "      <td>338409</td>\n",
       "      <td>Bachelors</td>\n",
       "      <td>13</td>\n",
       "      <td>Married-civ-spouse</td>\n",
       "      <td>Prof-specialty</td>\n",
       "      <td>Wife</td>\n",
       "      <td>Black</td>\n",
       "      <td>Female</td>\n",
       "      <td>0</td>\n",
       "      <td>0</td>\n",
       "      <td>40</td>\n",
       "      <td>Cuba</td>\n",
       "      <td>&lt;=50K</td>\n",
       "      <td>0</td>\n",
       "    </tr>\n",
       "  </tbody>\n",
       "</table>\n",
       "</div>"
      ],
      "text/plain": [
       "   age         workclass  fnlwgt  education  education_num  \\\n",
       "0   39         State-gov   77516  Bachelors             13   \n",
       "1   50  Self-emp-not-inc   83311  Bachelors             13   \n",
       "2   38           Private  215646    HS-grad              9   \n",
       "3   53           Private  234721       11th              7   \n",
       "4   28           Private  338409  Bachelors             13   \n",
       "\n",
       "       marital_status         occupation   relationship   race     sex  \\\n",
       "0       Never-married       Adm-clerical  Not-in-family  White    Male   \n",
       "1  Married-civ-spouse    Exec-managerial        Husband  White    Male   \n",
       "2            Divorced  Handlers-cleaners  Not-in-family  White    Male   \n",
       "3  Married-civ-spouse  Handlers-cleaners        Husband  Black    Male   \n",
       "4  Married-civ-spouse     Prof-specialty           Wife  Black  Female   \n",
       "\n",
       "   capital_gain  capital_loss  hours_per_week native_country income  \\\n",
       "0          2174             0              40  United-States  <=50K   \n",
       "1             0             0              13  United-States  <=50K   \n",
       "2             0             0              40  United-States  <=50K   \n",
       "3             0             0              40  United-States  <=50K   \n",
       "4             0             0              40           Cuba  <=50K   \n",
       "\n",
       "   income_numeric  \n",
       "0               0  \n",
       "1               0  \n",
       "2               0  \n",
       "3               0  \n",
       "4               0  "
      ]
     },
     "execution_count": 23,
     "metadata": {},
     "output_type": "execute_result"
    }
   ],
   "source": [
    "combined_df.head()"
   ]
  },
  {
   "cell_type": "code",
   "execution_count": 24,
   "metadata": {},
   "outputs": [
    {
     "data": {
      "text/html": [
       "<div>\n",
       "<style scoped>\n",
       "    .dataframe tbody tr th:only-of-type {\n",
       "        vertical-align: middle;\n",
       "    }\n",
       "\n",
       "    .dataframe tbody tr th {\n",
       "        vertical-align: top;\n",
       "    }\n",
       "\n",
       "    .dataframe thead th {\n",
       "        text-align: right;\n",
       "    }\n",
       "</style>\n",
       "<table border=\"1\" class=\"dataframe\">\n",
       "  <thead>\n",
       "    <tr style=\"text-align: right;\">\n",
       "      <th></th>\n",
       "      <th>age</th>\n",
       "      <th>workclass</th>\n",
       "      <th>education</th>\n",
       "      <th>education_num</th>\n",
       "      <th>marital_status</th>\n",
       "      <th>occupation</th>\n",
       "      <th>relationship</th>\n",
       "      <th>race</th>\n",
       "      <th>sex</th>\n",
       "      <th>capital_gain</th>\n",
       "      <th>capital_loss</th>\n",
       "      <th>hours_per_week</th>\n",
       "      <th>native_country</th>\n",
       "      <th>income</th>\n",
       "      <th>income_numeric</th>\n",
       "    </tr>\n",
       "  </thead>\n",
       "  <tbody>\n",
       "    <tr>\n",
       "      <th>0</th>\n",
       "      <td>39</td>\n",
       "      <td>State-gov</td>\n",
       "      <td>Bachelors</td>\n",
       "      <td>13</td>\n",
       "      <td>Never-married</td>\n",
       "      <td>Adm-clerical</td>\n",
       "      <td>Not-in-family</td>\n",
       "      <td>White</td>\n",
       "      <td>Male</td>\n",
       "      <td>2174</td>\n",
       "      <td>0</td>\n",
       "      <td>40</td>\n",
       "      <td>United-States</td>\n",
       "      <td>&lt;=50K</td>\n",
       "      <td>0</td>\n",
       "    </tr>\n",
       "    <tr>\n",
       "      <th>1</th>\n",
       "      <td>50</td>\n",
       "      <td>Self-emp-not-inc</td>\n",
       "      <td>Bachelors</td>\n",
       "      <td>13</td>\n",
       "      <td>Married-civ-spouse</td>\n",
       "      <td>Exec-managerial</td>\n",
       "      <td>Husband</td>\n",
       "      <td>White</td>\n",
       "      <td>Male</td>\n",
       "      <td>0</td>\n",
       "      <td>0</td>\n",
       "      <td>13</td>\n",
       "      <td>United-States</td>\n",
       "      <td>&lt;=50K</td>\n",
       "      <td>0</td>\n",
       "    </tr>\n",
       "    <tr>\n",
       "      <th>2</th>\n",
       "      <td>38</td>\n",
       "      <td>Private</td>\n",
       "      <td>HS-grad</td>\n",
       "      <td>9</td>\n",
       "      <td>Divorced</td>\n",
       "      <td>Handlers-cleaners</td>\n",
       "      <td>Not-in-family</td>\n",
       "      <td>White</td>\n",
       "      <td>Male</td>\n",
       "      <td>0</td>\n",
       "      <td>0</td>\n",
       "      <td>40</td>\n",
       "      <td>United-States</td>\n",
       "      <td>&lt;=50K</td>\n",
       "      <td>0</td>\n",
       "    </tr>\n",
       "    <tr>\n",
       "      <th>3</th>\n",
       "      <td>53</td>\n",
       "      <td>Private</td>\n",
       "      <td>11th</td>\n",
       "      <td>7</td>\n",
       "      <td>Married-civ-spouse</td>\n",
       "      <td>Handlers-cleaners</td>\n",
       "      <td>Husband</td>\n",
       "      <td>Black</td>\n",
       "      <td>Male</td>\n",
       "      <td>0</td>\n",
       "      <td>0</td>\n",
       "      <td>40</td>\n",
       "      <td>United-States</td>\n",
       "      <td>&lt;=50K</td>\n",
       "      <td>0</td>\n",
       "    </tr>\n",
       "    <tr>\n",
       "      <th>4</th>\n",
       "      <td>28</td>\n",
       "      <td>Private</td>\n",
       "      <td>Bachelors</td>\n",
       "      <td>13</td>\n",
       "      <td>Married-civ-spouse</td>\n",
       "      <td>Prof-specialty</td>\n",
       "      <td>Wife</td>\n",
       "      <td>Black</td>\n",
       "      <td>Female</td>\n",
       "      <td>0</td>\n",
       "      <td>0</td>\n",
       "      <td>40</td>\n",
       "      <td>Cuba</td>\n",
       "      <td>&lt;=50K</td>\n",
       "      <td>0</td>\n",
       "    </tr>\n",
       "  </tbody>\n",
       "</table>\n",
       "</div>"
      ],
      "text/plain": [
       "   age         workclass  education  education_num      marital_status  \\\n",
       "0   39         State-gov  Bachelors             13       Never-married   \n",
       "1   50  Self-emp-not-inc  Bachelors             13  Married-civ-spouse   \n",
       "2   38           Private    HS-grad              9            Divorced   \n",
       "3   53           Private       11th              7  Married-civ-spouse   \n",
       "4   28           Private  Bachelors             13  Married-civ-spouse   \n",
       "\n",
       "          occupation   relationship   race     sex  capital_gain  \\\n",
       "0       Adm-clerical  Not-in-family  White    Male          2174   \n",
       "1    Exec-managerial        Husband  White    Male             0   \n",
       "2  Handlers-cleaners  Not-in-family  White    Male             0   \n",
       "3  Handlers-cleaners        Husband  Black    Male             0   \n",
       "4     Prof-specialty           Wife  Black  Female             0   \n",
       "\n",
       "   capital_loss  hours_per_week native_country income  income_numeric  \n",
       "0             0              40  United-States  <=50K               0  \n",
       "1             0              13  United-States  <=50K               0  \n",
       "2             0              40  United-States  <=50K               0  \n",
       "3             0              40  United-States  <=50K               0  \n",
       "4             0              40           Cuba  <=50K               0  "
      ]
     },
     "execution_count": 24,
     "metadata": {},
     "output_type": "execute_result"
    }
   ],
   "source": [
    "combined_df.drop(\"fnlwgt\", axis=1, inplace=True)\n",
    "combined_df.head()"
   ]
  },
  {
   "cell_type": "markdown",
   "metadata": {},
   "source": [
    "We deecided to the column *fnlwgt* because it is not having impact in our model ."
   ]
  },
  {
   "cell_type": "markdown",
   "metadata": {},
   "source": [
    "We can group rare categories in our dataframe using a threshold of <1000 and replace with other"
   ]
  },
  {
   "cell_type": "code",
   "execution_count": 25,
   "metadata": {},
   "outputs": [],
   "source": [
    "#combine rare categories in native_country to \"Other\"\n",
    "for col in [\"occupation\", \"native_country\"]:\n",
    "    counts = combined_df[col].value_counts()\n",
    "    rare = counts[counts < 1000].index\n",
    "    combined_df[col] = combined_df[col].replace(rare, \"Other\")\n",
    "\n"
   ]
  },
  {
   "cell_type": "markdown",
   "metadata": {},
   "source": [
    "We do this to prevent having many classes in our dummies and have easier study of our models."
   ]
  },
  {
   "cell_type": "markdown",
   "metadata": {},
   "source": [
    "##### One-Hot Encoding / Dummy Variables\n",
    "\n",
    "After grouping and cleaning, we can convert all categorical columns into numeric form."
   ]
  },
  {
   "cell_type": "code",
   "execution_count": 26,
   "metadata": {},
   "outputs": [],
   "source": [
    "df = combined_df.copy()\n"
   ]
  },
  {
   "cell_type": "code",
   "execution_count": 27,
   "metadata": {},
   "outputs": [
    {
     "data": {
      "text/html": [
       "<div>\n",
       "<style scoped>\n",
       "    .dataframe tbody tr th:only-of-type {\n",
       "        vertical-align: middle;\n",
       "    }\n",
       "\n",
       "    .dataframe tbody tr th {\n",
       "        vertical-align: top;\n",
       "    }\n",
       "\n",
       "    .dataframe thead th {\n",
       "        text-align: right;\n",
       "    }\n",
       "</style>\n",
       "<table border=\"1\" class=\"dataframe\">\n",
       "  <thead>\n",
       "    <tr style=\"text-align: right;\">\n",
       "      <th></th>\n",
       "      <th>age</th>\n",
       "      <th>education_num</th>\n",
       "      <th>capital_gain</th>\n",
       "      <th>capital_loss</th>\n",
       "      <th>hours_per_week</th>\n",
       "      <th>income_numeric</th>\n",
       "      <th>workclass_Local-gov</th>\n",
       "      <th>workclass_Never-worked</th>\n",
       "      <th>workclass_Private</th>\n",
       "      <th>workclass_Self-emp-inc</th>\n",
       "      <th>...</th>\n",
       "      <th>relationship_Own-child</th>\n",
       "      <th>relationship_Unmarried</th>\n",
       "      <th>relationship_Wife</th>\n",
       "      <th>race_Asian-Pac-Islander</th>\n",
       "      <th>race_Black</th>\n",
       "      <th>race_Other</th>\n",
       "      <th>race_White</th>\n",
       "      <th>sex_Male</th>\n",
       "      <th>native_country_United-States</th>\n",
       "      <th>income_&gt;50K</th>\n",
       "    </tr>\n",
       "  </thead>\n",
       "  <tbody>\n",
       "    <tr>\n",
       "      <th>0</th>\n",
       "      <td>39</td>\n",
       "      <td>13</td>\n",
       "      <td>2174</td>\n",
       "      <td>0</td>\n",
       "      <td>40</td>\n",
       "      <td>0</td>\n",
       "      <td>0</td>\n",
       "      <td>0</td>\n",
       "      <td>0</td>\n",
       "      <td>0</td>\n",
       "      <td>...</td>\n",
       "      <td>0</td>\n",
       "      <td>0</td>\n",
       "      <td>0</td>\n",
       "      <td>0</td>\n",
       "      <td>0</td>\n",
       "      <td>0</td>\n",
       "      <td>1</td>\n",
       "      <td>1</td>\n",
       "      <td>1</td>\n",
       "      <td>0</td>\n",
       "    </tr>\n",
       "    <tr>\n",
       "      <th>1</th>\n",
       "      <td>50</td>\n",
       "      <td>13</td>\n",
       "      <td>0</td>\n",
       "      <td>0</td>\n",
       "      <td>13</td>\n",
       "      <td>0</td>\n",
       "      <td>0</td>\n",
       "      <td>0</td>\n",
       "      <td>0</td>\n",
       "      <td>0</td>\n",
       "      <td>...</td>\n",
       "      <td>0</td>\n",
       "      <td>0</td>\n",
       "      <td>0</td>\n",
       "      <td>0</td>\n",
       "      <td>0</td>\n",
       "      <td>0</td>\n",
       "      <td>1</td>\n",
       "      <td>1</td>\n",
       "      <td>1</td>\n",
       "      <td>0</td>\n",
       "    </tr>\n",
       "    <tr>\n",
       "      <th>2</th>\n",
       "      <td>38</td>\n",
       "      <td>9</td>\n",
       "      <td>0</td>\n",
       "      <td>0</td>\n",
       "      <td>40</td>\n",
       "      <td>0</td>\n",
       "      <td>0</td>\n",
       "      <td>0</td>\n",
       "      <td>1</td>\n",
       "      <td>0</td>\n",
       "      <td>...</td>\n",
       "      <td>0</td>\n",
       "      <td>0</td>\n",
       "      <td>0</td>\n",
       "      <td>0</td>\n",
       "      <td>0</td>\n",
       "      <td>0</td>\n",
       "      <td>1</td>\n",
       "      <td>1</td>\n",
       "      <td>1</td>\n",
       "      <td>0</td>\n",
       "    </tr>\n",
       "    <tr>\n",
       "      <th>3</th>\n",
       "      <td>53</td>\n",
       "      <td>7</td>\n",
       "      <td>0</td>\n",
       "      <td>0</td>\n",
       "      <td>40</td>\n",
       "      <td>0</td>\n",
       "      <td>0</td>\n",
       "      <td>0</td>\n",
       "      <td>1</td>\n",
       "      <td>0</td>\n",
       "      <td>...</td>\n",
       "      <td>0</td>\n",
       "      <td>0</td>\n",
       "      <td>0</td>\n",
       "      <td>0</td>\n",
       "      <td>1</td>\n",
       "      <td>0</td>\n",
       "      <td>0</td>\n",
       "      <td>1</td>\n",
       "      <td>1</td>\n",
       "      <td>0</td>\n",
       "    </tr>\n",
       "    <tr>\n",
       "      <th>4</th>\n",
       "      <td>28</td>\n",
       "      <td>13</td>\n",
       "      <td>0</td>\n",
       "      <td>0</td>\n",
       "      <td>40</td>\n",
       "      <td>0</td>\n",
       "      <td>0</td>\n",
       "      <td>0</td>\n",
       "      <td>1</td>\n",
       "      <td>0</td>\n",
       "      <td>...</td>\n",
       "      <td>0</td>\n",
       "      <td>0</td>\n",
       "      <td>1</td>\n",
       "      <td>0</td>\n",
       "      <td>1</td>\n",
       "      <td>0</td>\n",
       "      <td>0</td>\n",
       "      <td>0</td>\n",
       "      <td>0</td>\n",
       "      <td>0</td>\n",
       "    </tr>\n",
       "  </tbody>\n",
       "</table>\n",
       "<p>5 rows × 59 columns</p>\n",
       "</div>"
      ],
      "text/plain": [
       "   age  education_num  capital_gain  capital_loss  hours_per_week  \\\n",
       "0   39             13          2174             0              40   \n",
       "1   50             13             0             0              13   \n",
       "2   38              9             0             0              40   \n",
       "3   53              7             0             0              40   \n",
       "4   28             13             0             0              40   \n",
       "\n",
       "   income_numeric  workclass_Local-gov  workclass_Never-worked  \\\n",
       "0               0                    0                       0   \n",
       "1               0                    0                       0   \n",
       "2               0                    0                       0   \n",
       "3               0                    0                       0   \n",
       "4               0                    0                       0   \n",
       "\n",
       "   workclass_Private  workclass_Self-emp-inc  ...  relationship_Own-child  \\\n",
       "0                  0                       0  ...                       0   \n",
       "1                  0                       0  ...                       0   \n",
       "2                  1                       0  ...                       0   \n",
       "3                  1                       0  ...                       0   \n",
       "4                  1                       0  ...                       0   \n",
       "\n",
       "   relationship_Unmarried  relationship_Wife  race_Asian-Pac-Islander  \\\n",
       "0                       0                  0                        0   \n",
       "1                       0                  0                        0   \n",
       "2                       0                  0                        0   \n",
       "3                       0                  0                        0   \n",
       "4                       0                  1                        0   \n",
       "\n",
       "   race_Black  race_Other  race_White  sex_Male  native_country_United-States  \\\n",
       "0           0           0           1         1                             1   \n",
       "1           0           0           1         1                             1   \n",
       "2           0           0           1         1                             1   \n",
       "3           1           0           0         1                             1   \n",
       "4           1           0           0         0                             0   \n",
       "\n",
       "   income_>50K  \n",
       "0            0  \n",
       "1            0  \n",
       "2            0  \n",
       "3            0  \n",
       "4            0  \n",
       "\n",
       "[5 rows x 59 columns]"
      ]
     },
     "execution_count": 27,
     "metadata": {},
     "output_type": "execute_result"
    }
   ],
   "source": [
    "#encode categorical variables using one-hot encoding\n",
    "df_encoded = pd.get_dummies(df, drop_first=True)\n",
    "# Display the first few rows of the encoded DataFrame\n",
    "df_encoded.head()"
   ]
  },
  {
   "cell_type": "markdown",
   "metadata": {},
   "source": [
    "### MODELLING "
   ]
  },
  {
   "cell_type": "markdown",
   "metadata": {},
   "source": [
    "We begin with a simple classifier i.e Logistic regression ( with default parameters) to set to baseline.\n",
    "This is where we do training and evaluation.\n"
   ]
  },
  {
   "cell_type": "code",
   "execution_count": 28,
   "metadata": {},
   "outputs": [
    {
     "name": "stdout",
     "output_type": "stream",
     "text": [
      "Accuracy of the logistic regression model: 1.00\n",
      "Classification Report:\n",
      "              precision    recall  f1-score   support\n",
      "\n",
      "           0       1.00      1.00      1.00     11068\n",
      "           1       1.00      1.00      1.00      3569\n",
      "\n",
      "    accuracy                           1.00     14637\n",
      "   macro avg       1.00      1.00      1.00     14637\n",
      "weighted avg       1.00      1.00      1.00     14637\n",
      "\n",
      "Confusion Matrix:\n",
      "[[11068     0]\n",
      " [    0  3569]]\n"
     ]
    }
   ],
   "source": [
    "from sklearn.model_selection import train_test_split\n",
    "from sklearn.linear_model import LogisticRegression\n",
    "from sklearn.metrics import accuracy_score, classification_report, confusion_matrix\n",
    "# Split the data into features and target variable\n",
    "X = df_encoded.drop('income_numeric', axis=1)\n",
    "y = df_encoded['income_numeric']\n",
    "# Split the dataset into training and testing sets\n",
    "X_train, X_test, y_train, y_test = train_test_split(X, y, test_size=0.3, random_state=42)\n",
    "# Create a logistic regression model\n",
    "log_model = LogisticRegression(max_iter=5000)\n",
    "# Fit the model to the training data\n",
    "log_model.fit(X_train, y_train)\n",
    "# Make predictions on the test set\n",
    "y_pred = log_model.predict(X_test)\n",
    "# Calculate accuracy\n",
    "accuracy = accuracy_score(y_test, y_pred)   \n",
    "print(f\"Accuracy of the logistic regression model: {accuracy:.2f}\")\n",
    "# Print classification report\n",
    "print(\"Classification Report:\")\n",
    "print(classification_report(y_test, y_pred))\n",
    "# Print confusion matrix    \n",
    "conf_matrix = confusion_matrix(y_test, y_pred)\n",
    "print(\"Confusion Matrix:\")\n",
    "print(conf_matrix)\n"
   ]
  },
  {
   "cell_type": "markdown",
   "metadata": {},
   "source": [
    "After running our model we found an accuracy and metric to be 1 which called for further study .\n",
    "\n",
    "We decided to fine tune our model to help create a more realistic matrix and try and create a balanced class.\n",
    "\n",
    "We also use *stratified = y* to help maintain consistently the proportions of target variable's classes across training and testing sets."
   ]
  },
  {
   "cell_type": "code",
   "execution_count": 29,
   "metadata": {},
   "outputs": [],
   "source": [
    "from sklearn.model_selection import train_test_split\n",
    "\n",
    "# Assuming 'combined_df' is your cleaned dataframe, and 'target' is your label column\n",
    "X = combined_df.drop(\"income_numeric\", axis=1)  # Features\n",
    "y = combined_df[\"income_numeric\"]               # Labels\n",
    "\n",
    "# Split into 70% train and 30% test (you can adjust test_size if needed)\n",
    "X_train, X_test, y_train, y_test = train_test_split(X, y, test_size=0.3, random_state=42, stratify=y)\n"
   ]
  },
  {
   "cell_type": "markdown",
   "metadata": {},
   "source": [
    "Here we rerun train_test_split with new modifications."
   ]
  },
  {
   "cell_type": "code",
   "execution_count": 30,
   "metadata": {},
   "outputs": [],
   "source": [
    "from sklearn.preprocessing import StandardScaler\n",
    "# Initialize the StandardScaler\n",
    "scaler = StandardScaler()\n",
    "X_train_scaled = scaler.fit_transform(X_train.select_dtypes(include=[np.number]))\n",
    "X_test_scaled = scaler.transform(X_test.select_dtypes(include=[np.number]))\n"
   ]
  },
  {
   "cell_type": "markdown",
   "metadata": {},
   "source": [
    "We standardised the numeric features on our testing and training sets."
   ]
  },
  {
   "cell_type": "code",
   "execution_count": 31,
   "metadata": {},
   "outputs": [
    {
     "name": "stdout",
     "output_type": "stream",
     "text": [
      "Accuracy of the logistic regression model after scaling: 0.76\n",
      "Classification Report after scaling:\n",
      "              precision    recall  f1-score   support\n",
      "\n",
      "           0       0.90      0.77      0.83     11133\n",
      "           1       0.50      0.72      0.59      3504\n",
      "\n",
      "    accuracy                           0.76     14637\n",
      "   macro avg       0.70      0.74      0.71     14637\n",
      "weighted avg       0.80      0.76      0.77     14637\n",
      "\n",
      "Confusion Matrix after scaling:\n",
      "[[8557 2576]\n",
      " [ 977 2527]]\n"
     ]
    }
   ],
   "source": [
    "log2_model = LogisticRegression(max_iter=5000, class_weight='balanced')\n",
    "log2_model.fit(X_train_scaled, y_train)\n",
    "y_pred = log2_model.predict(X_test_scaled)\n",
    "print(f\"Accuracy of the logistic regression model after scaling: {accuracy_score(y_test, y_pred):.2f}\") \n",
    "# Print classification report\n",
    "print(\"Classification Report after scaling:\")\n",
    "print(classification_report(y_test, y_pred))\n",
    "# Print confusion matrix after scaling\n",
    "conf_matrix_scaled = confusion_matrix(y_test, y_pred)\n",
    "print(\"Confusion Matrix after scaling:\")\n",
    "print(conf_matrix_scaled)\n"
   ]
  },
  {
   "cell_type": "markdown",
   "metadata": {},
   "source": [
    "### MODEL INTERPRETATION"
   ]
  },
  {
   "cell_type": "markdown",
   "metadata": {},
   "source": [
    "#### Overall Interpretation and Implications:\n",
    "Decent Overall Accuracy (0.76): The model gets 76% of predictions right.\n",
    "\n",
    "Imbalanced Performance: While overall accuracy is okay, the model performs much better at predicting the majority class (<=50K) than the minority class (>50K).\n",
    "It's very good at identifying <=50K earners indicating (high precision and decent recall for class 0)\n",
    "\n",
    "It's less precise when predicting >50K earners (only 50% precision for class 1), meaning many of its >50K predictions are actually wrong.\n",
    "\n",
    "However, it still recalls a good proportion of actual >50K earners (72% recall for class 1) meaning it doesn't miss too many of the true high-income individuals.\n",
    "\n",
    "False Positives for income >50K are a concern: The 2,576 False Positives mean the model is incorrectly classifying a significant number of <=50K earners as >50K. This might be acceptable depending on the application. If misclassifying someone as high-income has low cost, this might be fine. If it results to incorrect targeting for luxury goods, it could be an issue for our model to the fure users.\n",
    "\n",
    "Trade-off between Precision and Recall for >50K: The model achieves a decent recall for the >50K class but at the expense of precision. This often indicates that the model is somewhat aggressive in predicting the positive class."
   ]
  },
  {
   "cell_type": "markdown",
   "metadata": {},
   "source": [
    "The question here would we rather have many people earning  above 50K threshold ?\n",
    "this will help us address on our issue of recall and precision."
   ]
  },
  {
   "cell_type": "markdown",
   "metadata": {},
   "source": [
    "You want to avoid wrongly assuming someone earns >50K\n",
    "Example: You're offering premium services, and want to avoid giving them to non-eligible people.\n",
    "\n",
    "Here:\n",
    "\n",
    "Precision becomes more important — you only want to predict >50K when you're confident.\n",
    "\n",
    "False positives are expensive — giving perks to the wrong group."
   ]
  },
  {
   "cell_type": "code",
   "execution_count": 32,
   "metadata": {},
   "outputs": [
    {
     "name": "stdout",
     "output_type": "stream",
     "text": [
      "Accuracy of the logistic regression model after SMOTE: 0.76\n",
      "Classification Report after SMOTE:\n",
      "              precision    recall  f1-score   support\n",
      "\n",
      "           0       0.90      0.77      0.83     11133\n",
      "           1       0.49      0.72      0.59      3504\n",
      "\n",
      "    accuracy                           0.76     14637\n",
      "   macro avg       0.70      0.75      0.71     14637\n",
      "weighted avg       0.80      0.76      0.77     14637\n",
      "\n",
      "Confusion Matrix after SMOTE:\n",
      "[[8543 2590]\n",
      " [ 970 2534]]\n"
     ]
    }
   ],
   "source": [
    "from imblearn.over_sampling import SMOTE\n",
    "# Initialize SMOTE\n",
    "smote = SMOTE(random_state=42)\n",
    "# Fit and resample the training data\n",
    "X_train_resampled, y_train_resampled = smote.fit_resample(X_train_scaled, y_train)\n",
    "# Fit the model on the resampled data\n",
    "log2_model.fit(X_train_resampled, y_train_resampled)\n",
    "# Make predictions on the test set\n",
    "y_pred_resampled = log2_model.predict(X_test_scaled)\n",
    "# Calculate accuracy after resampling\n",
    "accuracy_resampled = accuracy_score(y_test, y_pred_resampled)\n",
    "print(f\"Accuracy of the logistic regression model after SMOTE: {accuracy_resampled:.2f}\")\n",
    "# Print classification report after resampling\n",
    "print(\"Classification Report after SMOTE:\")\n",
    "print(classification_report(y_test, y_pred_resampled))\n",
    "# Print confusion matrix after resampling\n",
    "conf_matrix_resampled = confusion_matrix(y_test, y_pred_resampled)\n",
    "print(\"Confusion Matrix after SMOTE:\")\n",
    "print(conf_matrix_resampled)\n"
   ]
  },
  {
   "cell_type": "markdown",
   "metadata": {},
   "source": [
    "While SMOTE made a tiny positive dent in True Positives/False Negatives, it didn't significantly alter the overall performance or the trade-off between precision and recall for your minority class in this Logistic Regression model.\n",
    "\n",
    "Conclusion on SMOTE's Impact:\n",
    "In this specific instance, the impact of SMOTE on your Logistic Regression model was very subtle and minimal.\n",
    "\n",
    "It managed to slightly increase True Positives and decrease False Negatives for the minority class (which is the primary goal of SMOTE).\n",
    "However, this came at the cost of a small increase in False Positives, leading to a negligible change in overall accuracy, recall, and F1-score for the minority class, and a very slight drop in precision.\n",
    "\n",
    "The precision for the minority class slightly dropped (from 0.50 to 0.49). This implies that the model became slightly less precise in its positive predictions."
   ]
  },
  {
   "cell_type": "code",
   "execution_count": 33,
   "metadata": {},
   "outputs": [
    {
     "name": "stdout",
     "output_type": "stream",
     "text": [
      "Feature Importance:\n",
      "          Feature  Coefficient\n",
      "2    capital_gain     2.319826\n",
      "1   education_num     0.832920\n",
      "0             age     0.678977\n",
      "4  hours_per_week     0.583750\n",
      "3    capital_loss     0.274200\n"
     ]
    }
   ],
   "source": [
    "numeric_features = X_train.select_dtypes(include=[np.number]).columns\n",
    "\n",
    "#predict how certain features affects someone's income\n",
    "feature_importance = pd.DataFrame({\n",
    "    'Feature': numeric_features,\n",
    "    'Coefficient': log2_model.coef_[0]\n",
    "})\n",
    "# Sort the DataFrame by absolute value of coefficients\n",
    "feature_importance['Abs_Coefficient'] = feature_importance['Coefficient'].abs()\n",
    "feature_importance = feature_importance.sort_values(by='Abs_Coefficient', ascending=False)\n",
    "# Display the feature importance\n",
    "print(\"Feature Importance:\")\n",
    "print(feature_importance[['Feature', 'Coefficient']])\n",
    "\n"
   ]
  },
  {
   "cell_type": "markdown",
   "metadata": {},
   "source": [
    "Here we calculated the feature importance from the numeric datatypes holding other factors constant and found that *capital_gain* had much impact on the income for every one unit increase in *capital_gain* it increases the log-odds of earning >50K by 2.32\n",
    "\n",
    "Other features which had influence are *education_num* and *age* which can be intrepeted as one increase his education level the are higher chances of earning more than 50K. Here the log odds are 0.83 and 0.67 respectively.\n",
    "\n",
    "Same applies to age as the age imcrease there is a likelihood to more than 50K.\n",
    "\n",
    "The feature which least influence on the numeric datatype was *capital_loss*.\n",
    "The positive coefficient for **capital_loss* is noteworthy and might warrant further investigation based on the dataset's nuances.\n",
    "\n",
    "\n",
    "This kind of output is extremely valuable for model interpretability, as it directly tells you how much and in what direction each feature influences the predicted outcome."
   ]
  },
  {
   "cell_type": "code",
   "execution_count": 34,
   "metadata": {},
   "outputs": [
    {
     "data": {
      "text/html": [
       "<style>#sk-container-id-1 {color: black;background-color: white;}#sk-container-id-1 pre{padding: 0;}#sk-container-id-1 div.sk-toggleable {background-color: white;}#sk-container-id-1 label.sk-toggleable__label {cursor: pointer;display: block;width: 100%;margin-bottom: 0;padding: 0.3em;box-sizing: border-box;text-align: center;}#sk-container-id-1 label.sk-toggleable__label-arrow:before {content: \"▸\";float: left;margin-right: 0.25em;color: #696969;}#sk-container-id-1 label.sk-toggleable__label-arrow:hover:before {color: black;}#sk-container-id-1 div.sk-estimator:hover label.sk-toggleable__label-arrow:before {color: black;}#sk-container-id-1 div.sk-toggleable__content {max-height: 0;max-width: 0;overflow: hidden;text-align: left;background-color: #f0f8ff;}#sk-container-id-1 div.sk-toggleable__content pre {margin: 0.2em;color: black;border-radius: 0.25em;background-color: #f0f8ff;}#sk-container-id-1 input.sk-toggleable__control:checked~div.sk-toggleable__content {max-height: 200px;max-width: 100%;overflow: auto;}#sk-container-id-1 input.sk-toggleable__control:checked~label.sk-toggleable__label-arrow:before {content: \"▾\";}#sk-container-id-1 div.sk-estimator input.sk-toggleable__control:checked~label.sk-toggleable__label {background-color: #d4ebff;}#sk-container-id-1 div.sk-label input.sk-toggleable__control:checked~label.sk-toggleable__label {background-color: #d4ebff;}#sk-container-id-1 input.sk-hidden--visually {border: 0;clip: rect(1px 1px 1px 1px);clip: rect(1px, 1px, 1px, 1px);height: 1px;margin: -1px;overflow: hidden;padding: 0;position: absolute;width: 1px;}#sk-container-id-1 div.sk-estimator {font-family: monospace;background-color: #f0f8ff;border: 1px dotted black;border-radius: 0.25em;box-sizing: border-box;margin-bottom: 0.5em;}#sk-container-id-1 div.sk-estimator:hover {background-color: #d4ebff;}#sk-container-id-1 div.sk-parallel-item::after {content: \"\";width: 100%;border-bottom: 1px solid gray;flex-grow: 1;}#sk-container-id-1 div.sk-label:hover label.sk-toggleable__label {background-color: #d4ebff;}#sk-container-id-1 div.sk-serial::before {content: \"\";position: absolute;border-left: 1px solid gray;box-sizing: border-box;top: 0;bottom: 0;left: 50%;z-index: 0;}#sk-container-id-1 div.sk-serial {display: flex;flex-direction: column;align-items: center;background-color: white;padding-right: 0.2em;padding-left: 0.2em;position: relative;}#sk-container-id-1 div.sk-item {position: relative;z-index: 1;}#sk-container-id-1 div.sk-parallel {display: flex;align-items: stretch;justify-content: center;background-color: white;position: relative;}#sk-container-id-1 div.sk-item::before, #sk-container-id-1 div.sk-parallel-item::before {content: \"\";position: absolute;border-left: 1px solid gray;box-sizing: border-box;top: 0;bottom: 0;left: 50%;z-index: -1;}#sk-container-id-1 div.sk-parallel-item {display: flex;flex-direction: column;z-index: 1;position: relative;background-color: white;}#sk-container-id-1 div.sk-parallel-item:first-child::after {align-self: flex-end;width: 50%;}#sk-container-id-1 div.sk-parallel-item:last-child::after {align-self: flex-start;width: 50%;}#sk-container-id-1 div.sk-parallel-item:only-child::after {width: 0;}#sk-container-id-1 div.sk-dashed-wrapped {border: 1px dashed gray;margin: 0 0.4em 0.5em 0.4em;box-sizing: border-box;padding-bottom: 0.4em;background-color: white;}#sk-container-id-1 div.sk-label label {font-family: monospace;font-weight: bold;display: inline-block;line-height: 1.2em;}#sk-container-id-1 div.sk-label-container {text-align: center;}#sk-container-id-1 div.sk-container {/* jupyter's `normalize.less` sets `[hidden] { display: none; }` but bootstrap.min.css set `[hidden] { display: none !important; }` so we also need the `!important` here to be able to override the default hidden behavior on the sphinx rendered scikit-learn.org. See: https://github.com/scikit-learn/scikit-learn/issues/21755 */display: inline-block !important;position: relative;}#sk-container-id-1 div.sk-text-repr-fallback {display: none;}</style><div id=\"sk-container-id-1\" class=\"sk-top-container\"><div class=\"sk-text-repr-fallback\"><pre>Pipeline(steps=[(&#x27;columntransformer&#x27;,\n",
       "                 ColumnTransformer(transformers=[(&#x27;num&#x27;, StandardScaler(),\n",
       "                                                  [&#x27;age&#x27;, &#x27;education_num&#x27;,\n",
       "                                                   &#x27;capital_gain&#x27;,\n",
       "                                                   &#x27;capital_loss&#x27;,\n",
       "                                                   &#x27;hours_per_week&#x27;]),\n",
       "                                                 (&#x27;cat&#x27;,\n",
       "                                                  OneHotEncoder(handle_unknown=&#x27;ignore&#x27;),\n",
       "                                                  [&#x27;workclass&#x27;, &#x27;education&#x27;,\n",
       "                                                   &#x27;marital_status&#x27;,\n",
       "                                                   &#x27;occupation&#x27;, &#x27;relationship&#x27;,\n",
       "                                                   &#x27;race&#x27;, &#x27;sex&#x27;,\n",
       "                                                   &#x27;native_country&#x27;])])),\n",
       "                (&#x27;logisticregression&#x27;,\n",
       "                 LogisticRegression(class_weight=&#x27;balanced&#x27;, max_iter=5000))])</pre><b>In a Jupyter environment, please rerun this cell to show the HTML representation or trust the notebook. <br />On GitHub, the HTML representation is unable to render, please try loading this page with nbviewer.org.</b></div><div class=\"sk-container\" hidden><div class=\"sk-item sk-dashed-wrapped\"><div class=\"sk-label-container\"><div class=\"sk-label sk-toggleable\"><input class=\"sk-toggleable__control sk-hidden--visually\" id=\"sk-estimator-id-1\" type=\"checkbox\" ><label for=\"sk-estimator-id-1\" class=\"sk-toggleable__label sk-toggleable__label-arrow\">Pipeline</label><div class=\"sk-toggleable__content\"><pre>Pipeline(steps=[(&#x27;columntransformer&#x27;,\n",
       "                 ColumnTransformer(transformers=[(&#x27;num&#x27;, StandardScaler(),\n",
       "                                                  [&#x27;age&#x27;, &#x27;education_num&#x27;,\n",
       "                                                   &#x27;capital_gain&#x27;,\n",
       "                                                   &#x27;capital_loss&#x27;,\n",
       "                                                   &#x27;hours_per_week&#x27;]),\n",
       "                                                 (&#x27;cat&#x27;,\n",
       "                                                  OneHotEncoder(handle_unknown=&#x27;ignore&#x27;),\n",
       "                                                  [&#x27;workclass&#x27;, &#x27;education&#x27;,\n",
       "                                                   &#x27;marital_status&#x27;,\n",
       "                                                   &#x27;occupation&#x27;, &#x27;relationship&#x27;,\n",
       "                                                   &#x27;race&#x27;, &#x27;sex&#x27;,\n",
       "                                                   &#x27;native_country&#x27;])])),\n",
       "                (&#x27;logisticregression&#x27;,\n",
       "                 LogisticRegression(class_weight=&#x27;balanced&#x27;, max_iter=5000))])</pre></div></div></div><div class=\"sk-serial\"><div class=\"sk-item sk-dashed-wrapped\"><div class=\"sk-label-container\"><div class=\"sk-label sk-toggleable\"><input class=\"sk-toggleable__control sk-hidden--visually\" id=\"sk-estimator-id-2\" type=\"checkbox\" ><label for=\"sk-estimator-id-2\" class=\"sk-toggleable__label sk-toggleable__label-arrow\">columntransformer: ColumnTransformer</label><div class=\"sk-toggleable__content\"><pre>ColumnTransformer(transformers=[(&#x27;num&#x27;, StandardScaler(),\n",
       "                                 [&#x27;age&#x27;, &#x27;education_num&#x27;, &#x27;capital_gain&#x27;,\n",
       "                                  &#x27;capital_loss&#x27;, &#x27;hours_per_week&#x27;]),\n",
       "                                (&#x27;cat&#x27;, OneHotEncoder(handle_unknown=&#x27;ignore&#x27;),\n",
       "                                 [&#x27;workclass&#x27;, &#x27;education&#x27;, &#x27;marital_status&#x27;,\n",
       "                                  &#x27;occupation&#x27;, &#x27;relationship&#x27;, &#x27;race&#x27;, &#x27;sex&#x27;,\n",
       "                                  &#x27;native_country&#x27;])])</pre></div></div></div><div class=\"sk-parallel\"><div class=\"sk-parallel-item\"><div class=\"sk-item\"><div class=\"sk-label-container\"><div class=\"sk-label sk-toggleable\"><input class=\"sk-toggleable__control sk-hidden--visually\" id=\"sk-estimator-id-3\" type=\"checkbox\" ><label for=\"sk-estimator-id-3\" class=\"sk-toggleable__label sk-toggleable__label-arrow\">num</label><div class=\"sk-toggleable__content\"><pre>[&#x27;age&#x27;, &#x27;education_num&#x27;, &#x27;capital_gain&#x27;, &#x27;capital_loss&#x27;, &#x27;hours_per_week&#x27;]</pre></div></div></div><div class=\"sk-serial\"><div class=\"sk-item\"><div class=\"sk-estimator sk-toggleable\"><input class=\"sk-toggleable__control sk-hidden--visually\" id=\"sk-estimator-id-4\" type=\"checkbox\" ><label for=\"sk-estimator-id-4\" class=\"sk-toggleable__label sk-toggleable__label-arrow\">StandardScaler</label><div class=\"sk-toggleable__content\"><pre>StandardScaler()</pre></div></div></div></div></div></div><div class=\"sk-parallel-item\"><div class=\"sk-item\"><div class=\"sk-label-container\"><div class=\"sk-label sk-toggleable\"><input class=\"sk-toggleable__control sk-hidden--visually\" id=\"sk-estimator-id-5\" type=\"checkbox\" ><label for=\"sk-estimator-id-5\" class=\"sk-toggleable__label sk-toggleable__label-arrow\">cat</label><div class=\"sk-toggleable__content\"><pre>[&#x27;workclass&#x27;, &#x27;education&#x27;, &#x27;marital_status&#x27;, &#x27;occupation&#x27;, &#x27;relationship&#x27;, &#x27;race&#x27;, &#x27;sex&#x27;, &#x27;native_country&#x27;]</pre></div></div></div><div class=\"sk-serial\"><div class=\"sk-item\"><div class=\"sk-estimator sk-toggleable\"><input class=\"sk-toggleable__control sk-hidden--visually\" id=\"sk-estimator-id-6\" type=\"checkbox\" ><label for=\"sk-estimator-id-6\" class=\"sk-toggleable__label sk-toggleable__label-arrow\">OneHotEncoder</label><div class=\"sk-toggleable__content\"><pre>OneHotEncoder(handle_unknown=&#x27;ignore&#x27;)</pre></div></div></div></div></div></div></div></div><div class=\"sk-item\"><div class=\"sk-estimator sk-toggleable\"><input class=\"sk-toggleable__control sk-hidden--visually\" id=\"sk-estimator-id-7\" type=\"checkbox\" ><label for=\"sk-estimator-id-7\" class=\"sk-toggleable__label sk-toggleable__label-arrow\">LogisticRegression</label><div class=\"sk-toggleable__content\"><pre>LogisticRegression(class_weight=&#x27;balanced&#x27;, max_iter=5000)</pre></div></div></div></div></div></div></div>"
      ],
      "text/plain": [
       "Pipeline(steps=[('columntransformer',\n",
       "                 ColumnTransformer(transformers=[('num', StandardScaler(),\n",
       "                                                  ['age', 'education_num',\n",
       "                                                   'capital_gain',\n",
       "                                                   'capital_loss',\n",
       "                                                   'hours_per_week']),\n",
       "                                                 ('cat',\n",
       "                                                  OneHotEncoder(handle_unknown='ignore'),\n",
       "                                                  ['workclass', 'education',\n",
       "                                                   'marital_status',\n",
       "                                                   'occupation', 'relationship',\n",
       "                                                   'race', 'sex',\n",
       "                                                   'native_country'])])),\n",
       "                ('logisticregression',\n",
       "                 LogisticRegression(class_weight='balanced', max_iter=5000))])"
      ]
     },
     "execution_count": 34,
     "metadata": {},
     "output_type": "execute_result"
    }
   ],
   "source": [
    "X_train = X_train.drop(columns=['income'])\n",
    "X_test = X_test.drop(columns=['income'])\n",
    "\n",
    "from sklearn.compose import ColumnTransformer\n",
    "from sklearn.preprocessing import OneHotEncoder, StandardScaler\n",
    "from sklearn.pipeline import Pipeline\n",
    "\n",
    "# Separate features\n",
    "numeric_features = X_train.select_dtypes(include=[np.number]).columns.tolist()\n",
    "categorical_features = X_train.select_dtypes(include=['object']).columns.tolist()\n",
    "\n",
    "# Preprocessing pipeline\n",
    "preprocessor = ColumnTransformer(transformers=[\n",
    "    ('num', StandardScaler(), numeric_features),\n",
    "    ('cat', OneHotEncoder(handle_unknown='ignore'), categorical_features)\n",
    "])\n",
    "\n",
    "# Full pipeline with model\n",
    "from sklearn.linear_model import LogisticRegression\n",
    "from sklearn.pipeline import make_pipeline\n",
    "\n",
    "log2_pipeline = make_pipeline(\n",
    "    preprocessor,\n",
    "    LogisticRegression(max_iter=5000, class_weight='balanced')\n",
    ")\n",
    "\n",
    "# Fit the model\n",
    "log2_pipeline.fit(X_train, y_train)\n",
    "\n"
   ]
  },
  {
   "cell_type": "code",
   "execution_count": 35,
   "metadata": {},
   "outputs": [
    {
     "name": "stdout",
     "output_type": "stream",
     "text": [
      "                              Feature  Coefficient  AbsCoefficient\n",
      "2                        capital_gain     2.304097        2.304097\n",
      "32  marital_status_Married-civ-spouse     1.549426        1.549426\n",
      "31   marital_status_Married-AF-spouse     1.403431        1.403431\n",
      "55                  relationship_Wife     1.187292        1.187292\n",
      "27                education_Preschool    -1.041351        1.041351\n",
      "..                                ...          ...             ...\n",
      "37            occupation_Adm-clerical     0.035875        0.035875\n",
      "24                education_Doctorate     0.023285        0.023285\n",
      "54             relationship_Unmarried     0.021232        0.021232\n",
      "25                  education_HS-grad     0.020880        0.020880\n",
      "48        occupation_Transport-moving    -0.000833        0.000833\n",
      "\n",
      "[65 rows x 3 columns]\n"
     ]
    }
   ],
   "source": [
    "\n",
    "\n",
    "# Extract trained components\n",
    "preprocessor = log2_pipeline.named_steps['columntransformer']\n",
    "log_reg = log2_pipeline.named_steps['logisticregression']\n",
    "\n",
    "# Get numeric and categorical feature names\n",
    "numeric_features = preprocessor.transformers_[0][2]\n",
    "\n",
    "# Get the FITTED OneHotEncoder object\n",
    "ohe = preprocessor.named_transformers_['cat']\n",
    "\n",
    "# Get the one-hot encoded feature names\n",
    "categorical_feature_names = ohe.get_feature_names_out(preprocessor.transformers_[1][2])\n",
    "\n",
    "# Combine all feature names\n",
    "all_feature_names = np.concatenate([numeric_features, categorical_feature_names])\n",
    "\n",
    "# Get coefficients\n",
    "coefficients = log_reg.coef_.flatten()\n",
    "\n",
    "# Build the DataFrame\n",
    "feature_importance = pd.DataFrame({\n",
    "    'Feature': all_feature_names,\n",
    "    'Coefficient': coefficients\n",
    "})\n",
    "feature_importance['AbsCoefficient'] = feature_importance['Coefficient'].abs()\n",
    "feature_importance = feature_importance.sort_values(by='AbsCoefficient', ascending=False)\n",
    "\n",
    "# Show top 10\n",
    "print(feature_importance)\n",
    "\n",
    "\n",
    "\n",
    "\n"
   ]
  },
  {
   "cell_type": "code",
   "execution_count": 36,
   "metadata": {},
   "outputs": [
    {
     "name": "stdout",
     "output_type": "stream",
     "text": [
      "Confusion Matrix after using Pipeline:\n",
      "[[8846 2287]\n",
      " [ 549 2955]]\n"
     ]
    },
    {
     "data": {
      "image/png": "[encoded data removed]",
      "text/plain": [
       "<Figure size 576x432 with 2 Axes>"
      ]
     },
     "metadata": {},
     "output_type": "display_data"
    }
   ],
   "source": [
    "#confusion matrix after including all features\n",
    "conf_matrix_pipeline = confusion_matrix(y_test, log2_pipeline.predict(X_test))\n",
    "print(\"Confusion Matrix after using Pipeline:\")\n",
    "print(conf_matrix_pipeline)\n",
    "# Visualizing the confusion matrix\n",
    "import seaborn as sns  \n",
    "plt.figure(figsize=(8, 6))\n",
    "sns.heatmap(conf_matrix_pipeline, annot=True, fmt='d', cmap='Blues',\n",
    "            xticklabels=['<=50K', '>50K'], yticklabels=['<=50K', '>50K'])\n",
    "plt.title('Confusion Matrix')\n",
    "plt.xlabel('Predicted')\n",
    "plt.ylabel('Actual')\n",
    "plt.show()\n"
   ]
  },
  {
   "cell_type": "markdown",
   "metadata": {},
   "source": [
    "#### Overall Insights\n",
    "Financial and Marital Status Dominate: capital_gain and various marital_status features (especially being married) are consistently the strongest drivers of higher income. This strongly aligns with the initial tornado plot.\n",
    "\n",
    "Education's Dual Impact: While a high education_num generally has a positive effect, the education_Preschool category shows a very strong negative impact, indicating the critical role of at least basic formal education.\n",
    "\n",
    "Specific Occupations have Varied Impact: Some occupations (like Handlers-cleaners or Prof-specialty in your earlier tornado plot) have strong negative impacts, while others (like Exec-managerial from your earlier tornado plot) have positive impacts. \n",
    "\n",
    "However, some specific education and occupation categories listed at the bottom here have very little linear influence when other, more powerful features are present in the model.\n",
    "\n",
    "Consistency Across Views: This detailed coefficient list reinforces the findings from your initial tornado plot, which was essentially a visualization of these coefficients. The AbsCoefficient column explicitly sorts them by strength, which is what the length of bars in the tornado plot represented.\n",
    "\n",
    "This table is highly valuable for understanding the direct, quantitative relationships between individual features and the predicted income outcome in a linear model context."
   ]
  },
  {
   "cell_type": "code",
   "execution_count": 37,
   "metadata": {},
   "outputs": [
    {
     "data": {
      "image/png": "[encoded data removed]",
      "text/plain": [
       "<Figure size 720x504 with 1 Axes>"
      ]
     },
     "metadata": {},
     "output_type": "display_data"
    }
   ],
   "source": [
    "import matplotlib.pyplot as plt\n",
    "import seaborn as sns\n",
    "\n",
    "# Sort features by absolute coefficient value\n",
    "top_features = feature_importance.copy()\n",
    "top_features['abs_coeff'] = top_features['Coefficient'].abs()\n",
    "top_features = top_features.sort_values(by='abs_coeff', ascending=False).head(15)\n",
    "\n",
    "# Plot\n",
    "plt.figure(figsize=(10, 7))\n",
    "sns.barplot(data=top_features, x='Coefficient', y='Feature', palette='coolwarm')\n",
    "\n",
    "plt.title('Top 15 Most Influential Features')\n",
    "plt.xlabel('Coefficient (Effect on Income Prediction)')\n",
    "plt.ylabel('Feature')\n",
    "plt.axvline(0, color='gray', linestyle='--')\n",
    "plt.tight_layout()\n",
    "plt.show()\n"
   ]
  },
  {
   "cell_type": "markdown",
   "metadata": {},
   "source": [
    "#### Observation\n",
    "##### Most Influential Positive Features (Strongest Positive Effect on Income Prediction\n",
    "\n",
    "capital_gain: This is by far the most influential positive feature. A higher capital gain strongly predicts a higher income.\n",
    "\n",
    "marital_status_Married-civ-spouse: Being married to a civilian spouse has a significant positive impact on income prediction.\n",
    "\n",
    "marital_status_Married-AF-spouse: Similar to the above, being married to an armed forces spouse also has a strong positive effect on income prediction.\n",
    "\n",
    "relationship_Wife: Being in a \"Wife\" relationship also shows a notable positive correlation with income.\n",
    "\n",
    "##### Most Influential Negative Features (Strongest Negative Effect on Income Prediction\n",
    "\n",
    "occupation_Handlers-cleaners: This occupation category has the strongest negative impact on income prediction, suggesting individuals in these roles tend to have lower predicted incomes.\n",
    "\n",
    "occupation_Prof-specialty: Surprisingly, \"Prof-specialty\" has a negative coefficient, although less strong than \"Handlers-cleaners.\" This might indicate that, in this specific model's context, this category is associated with relatively lower income compared to a baseline or other categories.\n",
    "\n",
    "marital_status_Separated: Being separated is associated with a lower predicted income.\n",
    "\n",
    "workclass_Federal-gov: Federal government workclass shows a negative effect, albeit relatively small compared to others."
   ]
  },
  {
   "cell_type": "markdown",
   "metadata": {},
   "source": [
    "### Tree-based Model"
   ]
  },
  {
   "cell_type": "markdown",
   "metadata": {},
   "source": [
    "We move to tree based model to gain insights on the non-linear features and also be able to understand the complex parts from the logistic model."
   ]
  },
  {
   "cell_type": "code",
   "execution_count": 38,
   "metadata": {},
   "outputs": [
    {
     "data": {
      "text/html": [
       "<style>#sk-container-id-2 {color: black;background-color: white;}#sk-container-id-2 pre{padding: 0;}#sk-container-id-2 div.sk-toggleable {background-color: white;}#sk-container-id-2 label.sk-toggleable__label {cursor: pointer;display: block;width: 100%;margin-bottom: 0;padding: 0.3em;box-sizing: border-box;text-align: center;}#sk-container-id-2 label.sk-toggleable__label-arrow:before {content: \"▸\";float: left;margin-right: 0.25em;color: #696969;}#sk-container-id-2 label.sk-toggleable__label-arrow:hover:before {color: black;}#sk-container-id-2 div.sk-estimator:hover label.sk-toggleable__label-arrow:before {color: black;}#sk-container-id-2 div.sk-toggleable__content {max-height: 0;max-width: 0;overflow: hidden;text-align: left;background-color: #f0f8ff;}#sk-container-id-2 div.sk-toggleable__content pre {margin: 0.2em;color: black;border-radius: 0.25em;background-color: #f0f8ff;}#sk-container-id-2 input.sk-toggleable__control:checked~div.sk-toggleable__content {max-height: 200px;max-width: 100%;overflow: auto;}#sk-container-id-2 input.sk-toggleable__control:checked~label.sk-toggleable__label-arrow:before {content: \"▾\";}#sk-container-id-2 div.sk-estimator input.sk-toggleable__control:checked~label.sk-toggleable__label {background-color: #d4ebff;}#sk-container-id-2 div.sk-label input.sk-toggleable__control:checked~label.sk-toggleable__label {background-color: #d4ebff;}#sk-container-id-2 input.sk-hidden--visually {border: 0;clip: rect(1px 1px 1px 1px);clip: rect(1px, 1px, 1px, 1px);height: 1px;margin: -1px;overflow: hidden;padding: 0;position: absolute;width: 1px;}#sk-container-id-2 div.sk-estimator {font-family: monospace;background-color: #f0f8ff;border: 1px dotted black;border-radius: 0.25em;box-sizing: border-box;margin-bottom: 0.5em;}#sk-container-id-2 div.sk-estimator:hover {background-color: #d4ebff;}#sk-container-id-2 div.sk-parallel-item::after {content: \"\";width: 100%;border-bottom: 1px solid gray;flex-grow: 1;}#sk-container-id-2 div.sk-label:hover label.sk-toggleable__label {background-color: #d4ebff;}#sk-container-id-2 div.sk-serial::before {content: \"\";position: absolute;border-left: 1px solid gray;box-sizing: border-box;top: 0;bottom: 0;left: 50%;z-index: 0;}#sk-container-id-2 div.sk-serial {display: flex;flex-direction: column;align-items: center;background-color: white;padding-right: 0.2em;padding-left: 0.2em;position: relative;}#sk-container-id-2 div.sk-item {position: relative;z-index: 1;}#sk-container-id-2 div.sk-parallel {display: flex;align-items: stretch;justify-content: center;background-color: white;position: relative;}#sk-container-id-2 div.sk-item::before, #sk-container-id-2 div.sk-parallel-item::before {content: \"\";position: absolute;border-left: 1px solid gray;box-sizing: border-box;top: 0;bottom: 0;left: 50%;z-index: -1;}#sk-container-id-2 div.sk-parallel-item {display: flex;flex-direction: column;z-index: 1;position: relative;background-color: white;}#sk-container-id-2 div.sk-parallel-item:first-child::after {align-self: flex-end;width: 50%;}#sk-container-id-2 div.sk-parallel-item:last-child::after {align-self: flex-start;width: 50%;}#sk-container-id-2 div.sk-parallel-item:only-child::after {width: 0;}#sk-container-id-2 div.sk-dashed-wrapped {border: 1px dashed gray;margin: 0 0.4em 0.5em 0.4em;box-sizing: border-box;padding-bottom: 0.4em;background-color: white;}#sk-container-id-2 div.sk-label label {font-family: monospace;font-weight: bold;display: inline-block;line-height: 1.2em;}#sk-container-id-2 div.sk-label-container {text-align: center;}#sk-container-id-2 div.sk-container {/* jupyter's `normalize.less` sets `[hidden] { display: none; }` but bootstrap.min.css set `[hidden] { display: none !important; }` so we also need the `!important` here to be able to override the default hidden behavior on the sphinx rendered scikit-learn.org. See: https://github.com/scikit-learn/scikit-learn/issues/21755 */display: inline-block !important;position: relative;}#sk-container-id-2 div.sk-text-repr-fallback {display: none;}</style><div id=\"sk-container-id-2\" class=\"sk-top-container\"><div class=\"sk-text-repr-fallback\"><pre>Pipeline(steps=[(&#x27;columntransformer&#x27;,\n",
       "                 ColumnTransformer(transformers=[(&#x27;num&#x27;, StandardScaler(),\n",
       "                                                  [&#x27;age&#x27;, &#x27;education_num&#x27;,\n",
       "                                                   &#x27;capital_gain&#x27;,\n",
       "                                                   &#x27;capital_loss&#x27;,\n",
       "                                                   &#x27;hours_per_week&#x27;]),\n",
       "                                                 (&#x27;cat&#x27;,\n",
       "                                                  OneHotEncoder(handle_unknown=&#x27;ignore&#x27;),\n",
       "                                                  [&#x27;workclass&#x27;, &#x27;education&#x27;,\n",
       "                                                   &#x27;marital_status&#x27;,\n",
       "                                                   &#x27;occupation&#x27;, &#x27;relationship&#x27;,\n",
       "                                                   &#x27;race&#x27;, &#x27;sex&#x27;,\n",
       "                                                   &#x27;native_country&#x27;])])),\n",
       "                (&#x27;decisiontreeclassifier&#x27;,\n",
       "                 DecisionTreeClassifier(class_weight=&#x27;balanced&#x27;, max_depth=4,\n",
       "                                        random_state=42))])</pre><b>In a Jupyter environment, please rerun this cell to show the HTML representation or trust the notebook. <br />On GitHub, the HTML representation is unable to render, please try loading this page with nbviewer.org.</b></div><div class=\"sk-container\" hidden><div class=\"sk-item sk-dashed-wrapped\"><div class=\"sk-label-container\"><div class=\"sk-label sk-toggleable\"><input class=\"sk-toggleable__control sk-hidden--visually\" id=\"sk-estimator-id-8\" type=\"checkbox\" ><label for=\"sk-estimator-id-8\" class=\"sk-toggleable__label sk-toggleable__label-arrow\">Pipeline</label><div class=\"sk-toggleable__content\"><pre>Pipeline(steps=[(&#x27;columntransformer&#x27;,\n",
       "                 ColumnTransformer(transformers=[(&#x27;num&#x27;, StandardScaler(),\n",
       "                                                  [&#x27;age&#x27;, &#x27;education_num&#x27;,\n",
       "                                                   &#x27;capital_gain&#x27;,\n",
       "                                                   &#x27;capital_loss&#x27;,\n",
       "                                                   &#x27;hours_per_week&#x27;]),\n",
       "                                                 (&#x27;cat&#x27;,\n",
       "                                                  OneHotEncoder(handle_unknown=&#x27;ignore&#x27;),\n",
       "                                                  [&#x27;workclass&#x27;, &#x27;education&#x27;,\n",
       "                                                   &#x27;marital_status&#x27;,\n",
       "                                                   &#x27;occupation&#x27;, &#x27;relationship&#x27;,\n",
       "                                                   &#x27;race&#x27;, &#x27;sex&#x27;,\n",
       "                                                   &#x27;native_country&#x27;])])),\n",
       "                (&#x27;decisiontreeclassifier&#x27;,\n",
       "                 DecisionTreeClassifier(class_weight=&#x27;balanced&#x27;, max_depth=4,\n",
       "                                        random_state=42))])</pre></div></div></div><div class=\"sk-serial\"><div class=\"sk-item sk-dashed-wrapped\"><div class=\"sk-label-container\"><div class=\"sk-label sk-toggleable\"><input class=\"sk-toggleable__control sk-hidden--visually\" id=\"sk-estimator-id-9\" type=\"checkbox\" ><label for=\"sk-estimator-id-9\" class=\"sk-toggleable__label sk-toggleable__label-arrow\">columntransformer: ColumnTransformer</label><div class=\"sk-toggleable__content\"><pre>ColumnTransformer(transformers=[(&#x27;num&#x27;, StandardScaler(),\n",
       "                                 [&#x27;age&#x27;, &#x27;education_num&#x27;, &#x27;capital_gain&#x27;,\n",
       "                                  &#x27;capital_loss&#x27;, &#x27;hours_per_week&#x27;]),\n",
       "                                (&#x27;cat&#x27;, OneHotEncoder(handle_unknown=&#x27;ignore&#x27;),\n",
       "                                 [&#x27;workclass&#x27;, &#x27;education&#x27;, &#x27;marital_status&#x27;,\n",
       "                                  &#x27;occupation&#x27;, &#x27;relationship&#x27;, &#x27;race&#x27;, &#x27;sex&#x27;,\n",
       "                                  &#x27;native_country&#x27;])])</pre></div></div></div><div class=\"sk-parallel\"><div class=\"sk-parallel-item\"><div class=\"sk-item\"><div class=\"sk-label-container\"><div class=\"sk-label sk-toggleable\"><input class=\"sk-toggleable__control sk-hidden--visually\" id=\"sk-estimator-id-10\" type=\"checkbox\" ><label for=\"sk-estimator-id-10\" class=\"sk-toggleable__label sk-toggleable__label-arrow\">num</label><div class=\"sk-toggleable__content\"><pre>[&#x27;age&#x27;, &#x27;education_num&#x27;, &#x27;capital_gain&#x27;, &#x27;capital_loss&#x27;, &#x27;hours_per_week&#x27;]</pre></div></div></div><div class=\"sk-serial\"><div class=\"sk-item\"><div class=\"sk-estimator sk-toggleable\"><input class=\"sk-toggleable__control sk-hidden--visually\" id=\"sk-estimator-id-11\" type=\"checkbox\" ><label for=\"sk-estimator-id-11\" class=\"sk-toggleable__label sk-toggleable__label-arrow\">StandardScaler</label><div class=\"sk-toggleable__content\"><pre>StandardScaler()</pre></div></div></div></div></div></div><div class=\"sk-parallel-item\"><div class=\"sk-item\"><div class=\"sk-label-container\"><div class=\"sk-label sk-toggleable\"><input class=\"sk-toggleable__control sk-hidden--visually\" id=\"sk-estimator-id-12\" type=\"checkbox\" ><label for=\"sk-estimator-id-12\" class=\"sk-toggleable__label sk-toggleable__label-arrow\">cat</label><div class=\"sk-toggleable__content\"><pre>[&#x27;workclass&#x27;, &#x27;education&#x27;, &#x27;marital_status&#x27;, &#x27;occupation&#x27;, &#x27;relationship&#x27;, &#x27;race&#x27;, &#x27;sex&#x27;, &#x27;native_country&#x27;]</pre></div></div></div><div class=\"sk-serial\"><div class=\"sk-item\"><div class=\"sk-estimator sk-toggleable\"><input class=\"sk-toggleable__control sk-hidden--visually\" id=\"sk-estimator-id-13\" type=\"checkbox\" ><label for=\"sk-estimator-id-13\" class=\"sk-toggleable__label sk-toggleable__label-arrow\">OneHotEncoder</label><div class=\"sk-toggleable__content\"><pre>OneHotEncoder(handle_unknown=&#x27;ignore&#x27;)</pre></div></div></div></div></div></div></div></div><div class=\"sk-item\"><div class=\"sk-estimator sk-toggleable\"><input class=\"sk-toggleable__control sk-hidden--visually\" id=\"sk-estimator-id-14\" type=\"checkbox\" ><label for=\"sk-estimator-id-14\" class=\"sk-toggleable__label sk-toggleable__label-arrow\">DecisionTreeClassifier</label><div class=\"sk-toggleable__content\"><pre>DecisionTreeClassifier(class_weight=&#x27;balanced&#x27;, max_depth=4, random_state=42)</pre></div></div></div></div></div></div></div>"
      ],
      "text/plain": [
       "Pipeline(steps=[('columntransformer',\n",
       "                 ColumnTransformer(transformers=[('num', StandardScaler(),\n",
       "                                                  ['age', 'education_num',\n",
       "                                                   'capital_gain',\n",
       "                                                   'capital_loss',\n",
       "                                                   'hours_per_week']),\n",
       "                                                 ('cat',\n",
       "                                                  OneHotEncoder(handle_unknown='ignore'),\n",
       "                                                  ['workclass', 'education',\n",
       "                                                   'marital_status',\n",
       "                                                   'occupation', 'relationship',\n",
       "                                                   'race', 'sex',\n",
       "                                                   'native_country'])])),\n",
       "                ('decisiontreeclassifier',\n",
       "                 DecisionTreeClassifier(class_weight='balanced', max_depth=4,\n",
       "                                        random_state=42))])"
      ]
     },
     "execution_count": 38,
     "metadata": {},
     "output_type": "execute_result"
    }
   ],
   "source": [
    "#We begin by train the model on the training set and then evaluate it on the test set.\n",
    "from sklearn.tree import DecisionTreeClassifier\n",
    "# we use the same preprocessor as before\n",
    "dt_pipeline = make_pipeline(\n",
    "    preprocessor,\n",
    "    DecisionTreeClassifier(max_depth=4, random_state=42, class_weight='balanced')\n",
    ")\n",
    "# Fit the Decision Tree model\n",
    "dt_pipeline.fit(X_train, y_train)"
   ]
  },
  {
   "cell_type": "code",
   "execution_count": 39,
   "metadata": {},
   "outputs": [
    {
     "data": {
      "image/png": "[encoded data removed]",
      "text/plain": [
       "<Figure size 1440x720 with 1 Axes>"
      ]
     },
     "metadata": {},
     "output_type": "display_data"
    }
   ],
   "source": [
    "#plotting the Decision Tree\n",
    "from sklearn.tree import plot_tree\n",
    "plt.figure(figsize=(20, 10))\n",
    "plot_tree(dt_pipeline.named_steps['decisiontreeclassifier'],\n",
    "              feature_names=all_feature_names, \n",
    "              class_names=['<=50K', '>50K'], \n",
    "              filled=True, \n",
    "              rounded=True)\n",
    "plt.title('Decision Tree for Income Prediction')\n",
    "plt.show()\n"
   ]
  },
  {
   "cell_type": "code",
   "execution_count": 40,
   "metadata": {},
   "outputs": [
    {
     "name": "stdout",
     "output_type": "stream",
     "text": [
      "|--- marital_status_Married-civ-spouse <= 0.50\n",
      "|   |--- capital_gain <= 0.49\n",
      "|   |   |--- education_num <= 0.95\n",
      "|   |   |   |--- hours_per_week <= 0.00\n",
      "|   |   |   |   |--- class: 0\n",
      "|   |   |   |--- hours_per_week >  0.00\n",
      "|   |   |   |   |--- class: 0\n",
      "|   |   |--- education_num >  0.95\n",
      "|   |   |   |--- age <= -0.81\n",
      "|   |   |   |   |--- class: 0\n",
      "|   |   |   |--- age >  -0.81\n",
      "|   |   |   |   |--- class: 0\n",
      "|   |--- capital_gain >  0.49\n",
      "|   |   |--- capital_gain <= 0.81\n",
      "|   |   |   |--- capital_gain <= 0.51\n",
      "|   |   |   |   |--- class: 1\n",
      "|   |   |   |--- capital_gain >  0.51\n",
      "|   |   |   |   |--- class: 0\n",
      "|   |   |--- capital_gain >  0.81\n",
      "|   |   |   |--- age <= -1.32\n",
      "|   |   |   |   |--- class: 0\n",
      "|   |   |   |--- age >  -1.32\n",
      "|   |   |   |   |--- class: 1\n",
      "|--- marital_status_Married-civ-spouse >  0.50\n",
      "|   |--- education_num <= -0.22\n",
      "|   |   |--- capital_gain <= 0.55\n",
      "|   |   |   |--- education_num <= -1.00\n",
      "|   |   |   |   |--- class: 0\n",
      "|   |   |   |--- education_num >  -1.00\n",
      "|   |   |   |   |--- class: 1\n",
      "|   |   |--- capital_gain >  0.55\n",
      "|   |   |   |--- education_num <= -3.34\n",
      "|   |   |   |   |--- class: 0\n",
      "|   |   |   |--- education_num >  -3.34\n",
      "|   |   |   |   |--- class: 1\n",
      "|   |--- education_num >  -0.22\n",
      "|   |   |--- education_num <= 0.95\n",
      "|   |   |   |--- capital_gain <= 0.55\n",
      "|   |   |   |   |--- class: 1\n",
      "|   |   |   |--- capital_gain >  0.55\n",
      "|   |   |   |   |--- class: 1\n",
      "|   |   |--- education_num >  0.95\n",
      "|   |   |   |--- capital_gain <= 0.55\n",
      "|   |   |   |   |--- class: 1\n",
      "|   |   |   |--- capital_gain >  0.55\n",
      "|   |   |   |   |--- class: 1\n",
      "\n"
     ]
    }
   ],
   "source": [
    "from sklearn.tree import export_text\n",
    "\n",
    "tree_text = export_text(dt_pipeline.named_steps['decisiontreeclassifier'], feature_names=list(all_feature_names))\n",
    "print(tree_text)\n"
   ]
  },
  {
   "cell_type": "code",
   "execution_count": 41,
   "metadata": {},
   "outputs": [
    {
     "data": {
      "text/plain": [
       "'decision_tree.pdf'"
      ]
     },
     "execution_count": 41,
     "metadata": {},
     "output_type": "execute_result"
    }
   ],
   "source": [
    "from sklearn.tree import export_graphviz\n",
    "import graphviz\n",
    "\n",
    "dot_data = export_graphviz(\n",
    "    dt_pipeline.named_steps['decisiontreeclassifier'],\n",
    "    out_file=None,\n",
    "    feature_names=all_feature_names,\n",
    "    class_names=['less_or_equal_50K', 'greater_50K'],\n",
    "    filled=True,\n",
    "    rounded=True,\n",
    "    special_characters=True\n",
    ")\n",
    "\n",
    "graph = graphviz.Source(dot_data)\n",
    "graph.render(\"decision_tree\")  # saves as 'decision_tree.pdf'\n",
    "graph.view()\n"
   ]
  },
  {
   "cell_type": "markdown",
   "metadata": {},
   "source": [
    "We have this to be able to view the decision tree clear in a pdf to see the root nodes and leaf nodes of our decision tree model. "
   ]
  },
  {
   "cell_type": "code",
   "execution_count": 42,
   "metadata": {},
   "outputs": [
    {
     "name": "stdout",
     "output_type": "stream",
     "text": [
      "Accuracy of the Decision Tree model: 0.76\n",
      "Classification Report for Decision Tree:\n",
      "              precision    recall  f1-score   support\n",
      "\n",
      "           0       0.95      0.72      0.82     11133\n",
      "           1       0.50      0.87      0.63      3504\n",
      "\n",
      "    accuracy                           0.76     14637\n",
      "   macro avg       0.72      0.80      0.73     14637\n",
      "weighted avg       0.84      0.76      0.78     14637\n",
      "\n",
      "Confusion Matrix for Decision Tree:\n",
      "[[8040 3093]\n",
      " [ 441 3063]]\n",
      "Feature Importance from Decision Tree:\n",
      "<bound method NDFrame.head of                               Feature  Importance\n",
      "32  marital_status_Married-civ-spouse    0.605119\n",
      "1                       education_num    0.193552\n",
      "2                        capital_gain    0.174145\n",
      "0                                 age    0.018770\n",
      "4                      hours_per_week    0.008415\n",
      "..                                ...         ...\n",
      "29             education_Some-college    0.000000\n",
      "30            marital_status_Divorced    0.000000\n",
      "31   marital_status_Married-AF-spouse    0.000000\n",
      "3                        capital_loss    0.000000\n",
      "64       native_country_United-States    0.000000\n",
      "\n",
      "[65 rows x 2 columns]>\n"
     ]
    }
   ],
   "source": [
    "#decision tree evaluation\n",
    "y_pred_dt = dt_pipeline.predict(X_test)\n",
    "# Calculate accuracy\n",
    "accuracy_dt = accuracy_score(y_test, y_pred_dt)\n",
    "print(f\"Accuracy of the Decision Tree model: {accuracy_dt:.2f}\")\n",
    "# Print classification report\n",
    "print(\"Classification Report for Decision Tree:\")\n",
    "print(classification_report(y_test, y_pred_dt))\n",
    "# Print confusion matrix\n",
    "conf_matrix_dt = confusion_matrix(y_test, y_pred_dt)\n",
    "print(\"Confusion Matrix for Decision Tree:\")\n",
    "print(conf_matrix_dt)\n",
    "# Feature importance from Decision Tree\n",
    "feature_importance_dt = pd.DataFrame({\n",
    "    'Feature': all_feature_names,\n",
    "    'Importance': dt_pipeline.named_steps['decisiontreeclassifier'].feature_importances_\n",
    "})\n",
    "feature_importance_dt = feature_importance_dt.sort_values(by='Importance', ascending=False)\n",
    "print(\"Feature Importance from Decision Tree:\")\n",
    "print(feature_importance_dt.head)"
   ]
  },
  {
   "cell_type": "markdown",
   "metadata": {},
   "source": [
    "#### Observation\n",
    "The overall accuracy is 76%, which is identical to both the initial Logistic Regression model and the Logistic Regression model after applying SMOTE. This indicates that the Decision Tree, in terms of overall correct predictions, performs similarly.\n",
    "\n"
   ]
  },
  {
   "cell_type": "code",
   "execution_count": 43,
   "metadata": {},
   "outputs": [
    {
     "data": {
      "image/png": "[encoded data removed]",
      "text/plain": [
       "<Figure size 720x504 with 1 Axes>"
      ]
     },
     "metadata": {},
     "output_type": "display_data"
    },
    {
     "name": "stdout",
     "output_type": "stream",
     "text": [
      "Accuracy of the loaded Decision Tree model: 0.76\n",
      "Classification Report for Loaded Decision Tree:\n",
      "              precision    recall  f1-score   support\n",
      "\n",
      "           0       0.95      0.72      0.82     11133\n",
      "           1       0.50      0.87      0.63      3504\n",
      "\n",
      "    accuracy                           0.76     14637\n",
      "   macro avg       0.72      0.80      0.73     14637\n",
      "weighted avg       0.84      0.76      0.78     14637\n",
      "\n",
      "Confusion Matrix for Loaded Decision Tree:\n",
      "[[8040 3093]\n",
      " [ 441 3063]]\n",
      "Accuracy of the loaded Decision Tree pipeline: 0.76\n",
      "Classification Report for Loaded Decision Tree Pipeline:\n",
      "              precision    recall  f1-score   support\n",
      "\n",
      "           0       0.95      0.72      0.82     11133\n",
      "           1       0.50      0.87      0.63      3504\n",
      "\n",
      "    accuracy                           0.76     14637\n",
      "   macro avg       0.72      0.80      0.73     14637\n",
      "weighted avg       0.84      0.76      0.78     14637\n",
      "\n",
      "Confusion Matrix for Loaded Decision Tree Pipeline:\n",
      "[[8040 3093]\n",
      " [ 441 3063]]\n"
     ]
    }
   ],
   "source": [
    "#plotting graph of feature importance from Decision Tree\n",
    "plt.figure(figsize=(10, 7))\n",
    "sns.barplot(data=feature_importance_dt.head(15), x='Importance', y='Feature', palette='viridis')\n",
    "plt.title('Top 15 Features by Importance from Decision Tree')\n",
    "plt.xlabel('Importance')\n",
    "plt.ylabel('Feature')\n",
    "plt.axvline(0, color='gray', linestyle='--')\n",
    "plt.tight_layout()\n",
    "plt.show()\n",
    "# We can also visualize the Decision Tree using graphviz\n",
    "from sklearn.tree import export_graphviz\n",
    "from graphviz import Source\n",
    "# Export the tree to DOT format\n",
    "dot_data = export_graphviz(dt_pipeline.named_steps['decisiontreeclassifier'], \n",
    "                           out_file=None, \n",
    "                           feature_names=all_feature_names, \n",
    "                           class_names=['<=50K', '>50K'], \n",
    "                           filled=True, \n",
    "                           rounded=True)\n",
    "# Create a graph from the DOT data\n",
    "graph = Source(dot_data, format='png')\n",
    "# Render the graph\n",
    "graph.render('decision_tree_income_prediction', cleanup=True, format='png')\n",
    "# Display the graph\n",
    "# Display the graph in Jupyter Notebook\n",
    "from IPython.display import Image\n",
    "Image(filename='decision_tree_income_prediction.png')\n",
    "# Save the model using joblib\n",
    "import joblib\n",
    "joblib.dump(dt_pipeline, 'decision_tree_income_prediction_model.pkl')\n",
    "# Load the model\n",
    "loaded_model = joblib.load('decision_tree_income_prediction_model.pkl')\n",
    "# Make predictions with the loaded model\n",
    "y_pred_loaded = loaded_model.predict(X_test)\n",
    "# Calculate accuracy of the loaded model\n",
    "accuracy_loaded = accuracy_score(y_test, y_pred_loaded)\n",
    "print(f\"Accuracy of the loaded Decision Tree model: {accuracy_loaded:.2f}\")\n",
    "# Print classification report for the loaded model\n",
    "print(\"Classification Report for Loaded Decision Tree:\")\n",
    "print(classification_report(y_test, y_pred_loaded))\n",
    "# Print confusion matrix for the loaded model\n",
    "conf_matrix_loaded = confusion_matrix(y_test, y_pred_loaded)\n",
    "print(\"Confusion Matrix for Loaded Decision Tree:\")\n",
    "print(conf_matrix_loaded)\n",
    "# Save the feature importance DataFrame to a CSV file\n",
    "feature_importance_dt.to_csv('decision_tree_feature_importance.csv', index=False)\n",
    "# Save the model pipeline to a file\n",
    "joblib.dump(dt_pipeline, 'decision_tree_pipeline.pkl')\n",
    "# Load the saved model pipeline\n",
    "loaded_pipeline = joblib.load('decision_tree_pipeline.pkl')\n",
    "# Make predictions with the loaded pipeline\n",
    "y_pred_loaded_pipeline = loaded_pipeline.predict(X_test)\n",
    "# Calculate accuracy of the loaded pipeline\n",
    "accuracy_loaded_pipeline = accuracy_score(y_test, y_pred_loaded_pipeline)\n",
    "print(f\"Accuracy of the loaded Decision Tree pipeline: {accuracy_loaded_pipeline:.2f}\")\n",
    "# Print classification report for the loaded pipeline\n",
    "print(\"Classification Report for Loaded Decision Tree Pipeline:\")\n",
    "print(classification_report(y_test, y_pred_loaded_pipeline))\n",
    "# Print confusion matrix for the loaded pipeline\n",
    "conf_matrix_loaded_pipeline = confusion_matrix(y_test, y_pred_loaded_pipeline)\n",
    "print(\"Confusion Matrix for Loaded Decision Tree Pipeline:\")\n",
    "print(conf_matrix_loaded_pipeline)\n",
    "\n"
   ]
  },
  {
   "cell_type": "markdown",
   "metadata": {},
   "source": [
    "In summary, this code provides a comprehensive workflow for our decision tree model.\n",
    "\n",
    "It helps in ;\n",
    "\n",
    "1) Extracting and visualizing feature importance from a Decision Tree.\n",
    "\n",
    "2) Creating a visual representation of the Decision Tree model.\n",
    "\n",
    "3) Saving and loading the trained machine learning pipeline.\n",
    "\n",
    "4) Evaluating the performance of the loaded model/pipeline on a test set."
   ]
  },
  {
   "cell_type": "markdown",
   "metadata": {},
   "source": [
    "From the Graph of features of decision tree we observe *marirtal_status_Married-civ-spouse* as the dominant feature in our model. it is a positive contributer to earning higher income.\n",
    "it is also followed closely with *education_num* / education_level which also has a good positive coefficient.\n"
   ]
  },
  {
   "cell_type": "markdown",
   "metadata": {},
   "source": [
    "### Random Forest Model"
   ]
  },
  {
   "cell_type": "code",
   "execution_count": 44,
   "metadata": {},
   "outputs": [],
   "source": [
    "from sklearn.ensemble import RandomForestClassifier\n",
    "\n",
    "rf = RandomForestClassifier(n_estimators=100, class_weight='balanced', random_state=42)\n",
    "#used the same preprocessor as before\n",
    "rf_pipeline = make_pipeline(\n",
    "    preprocessor,\n",
    "    rf\n",
    ")\n",
    "# Fit the Random Forest model\n",
    "rf_pipeline.fit(X_train, y_train)\n",
    "# Make predictions on the test set\n",
    "y_pred_rf = rf_pipeline.predict(X_test)\n",
    "\n",
    "\n"
   ]
  },
  {
   "cell_type": "markdown",
   "metadata": {},
   "source": [
    "We have created a *randomforestclassifier* wrapped in pipeline as *rf_pipeline*"
   ]
  },
  {
   "cell_type": "code",
   "execution_count": 45,
   "metadata": {},
   "outputs": [],
   "source": [
    "from sklearn.ensemble import RandomForestClassifier\n",
    "\n",
    "rf = RandomForestClassifier(n_estimators=100, class_weight='balanced', random_state=42)\n",
    "#used the same preprocessor as before\n",
    "rf_pipeline = make_pipeline(\n",
    "    preprocessor,\n",
    "    rf\n",
    ")\n",
    "# Fit the Random Forest model\n",
    "rf_pipeline.fit(X_train, y_train)\n",
    "# Make predictions on the test set\n",
    "y_pred_rf = rf_pipeline.predict(X_test)\n",
    "\n",
    "\n"
   ]
  },
  {
   "cell_type": "code",
   "execution_count": 46,
   "metadata": {
    "scrolled": false
   },
   "outputs": [
    {
     "name": "stdout",
     "output_type": "stream",
     "text": [
      "Accuracy of the Random Forest model: 0.84\n",
      "Classification Report for Random Forest:\n",
      "              precision    recall  f1-score   support\n",
      "\n",
      "           0       0.89      0.90      0.90     11133\n",
      "           1       0.67      0.64      0.66      3504\n",
      "\n",
      "    accuracy                           0.84     14637\n",
      "   macro avg       0.78      0.77      0.78     14637\n",
      "weighted avg       0.84      0.84      0.84     14637\n",
      "\n"
     ]
    }
   ],
   "source": [
    "#evaluate the Random Forest modelfrom sklearn.metrics import accuracy_score, classification_report, confusion_matrix\n",
    "accuracy_rf = accuracy_score(y_test, y_pred_rf)\n",
    "print(f\"Accuracy of the Random Forest model: {accuracy_rf:.2f}\")\n",
    "# Print classification report\n",
    "print(\"Classification Report for Random Forest:\")\n",
    "print(classification_report(y_test, y_pred_rf))\n",
    "# Print confusion matrix\n",
    "conf_matrix_rf = confusion_matrix(y_test, y_pred_rf)"
   ]
  },
  {
   "cell_type": "markdown",
   "metadata": {},
   "source": [
    "Strong performance, indicating the model predicts income levels (<=50K or >50K) correctly 84% of the time.\n"
   ]
  },
  {
   "cell_type": "code",
   "execution_count": 47,
   "metadata": {},
   "outputs": [
    {
     "name": "stdout",
     "output_type": "stream",
     "text": [
      "Feature Importance for Random Forest:\n",
      "                              Feature  Importance\n",
      "0                                 age    0.227538\n",
      "4                      hours_per_week    0.109541\n",
      "32  marital_status_Married-civ-spouse    0.087727\n",
      "2                        capital_gain    0.076230\n",
      "1                       education_num    0.070340\n",
      "..                                ...         ...\n",
      "31   marital_status_Married-AF-spouse    0.000286\n",
      "17                  education_1st-4th    0.000239\n",
      "13              workclass_Without-pay    0.000124\n",
      "27                education_Preschool    0.000072\n",
      "7              workclass_Never-worked    0.000004\n",
      "\n",
      "[65 rows x 2 columns]\n"
     ]
    },
    {
     "data": {
      "image/png": "[encoded data removed]",
      "text/plain": [
       "<Figure size 720x504 with 1 Axes>"
      ]
     },
     "metadata": {},
     "output_type": "display_data"
    }
   ],
   "source": [
    "#feature importance for Random Forest\n",
    "importances = rf_pipeline.named_steps['randomforestclassifier'].feature_importances_\n",
    "feature_importance_rf = pd.DataFrame({\n",
    "    'Feature': all_feature_names,\n",
    "    'Importance': importances\n",
    "}).sort_values(by='Importance', ascending=False)\n",
    "print(\"Feature Importance for Random Forest:\")\n",
    "print(feature_importance_rf)\n",
    "# Plotting feature importance for Random Forest\n",
    "plt.figure(figsize=(10, 7))\n",
    "sns.barplot(data=feature_importance_rf.head(15), x='Importance', y='Feature', palette='viridis')\n",
    "plt.title('Top 15 Features by Importance in Random Forest')\n",
    "plt.xlabel('Importance')\n",
    "plt.ylabel('Feature')\n",
    "plt.axvline(0, color='gray', linestyle='--')\n",
    "plt.tight_layout()\n",
    "plt.show()\n"
   ]
  },
  {
   "cell_type": "markdown",
   "metadata": {},
   "source": [
    "This output displays the Feature Importance values for a Random Forest model. As discussed, Random Forests are ensemble models that build many decision trees and average their predictions. Feature importance in Random Forests is typically calculated by averaging the reduction in impurity (like Gini impurity or entropy) contributed by each feature across all the trees in the forest"
   ]
  },
  {
   "cell_type": "markdown",
   "metadata": {},
   "source": [
    "| Metric / Model          | Logistic Regression (Original) | Logistic Regression (SMOTE) | Decision Tree | Random Forest |\n",
    "|-------------------------|-------------------------------:|-----------------------------:|--------------:|--------------:|\n",
    "| **Overall Accuracy**    |                          0.76  |                        0.76  |         0.76  |         0.84  |\n",
    "| **Class 0 (<=50K)**     |                                |                              |               |               |\n",
    "| &nbsp;&nbsp; Precision  |                          0.90  |                        0.90  |         0.95  |         0.89  |\n",
    "| &nbsp;&nbsp; Recall     |                          0.77  |                        0.77  |         0.72  |         0.90  |\n",
    "| &nbsp;&nbsp; F1-score   |                          0.83  |                        0.83  |         0.82  |         0.90  |\n",
    "| **Class 1 (>50K)**      |                                |                              |               |               |\n",
    "| &nbsp;&nbsp; Precision  |                          0.50  |                        0.49  |         0.50  |         0.67  |\n",
    "| &nbsp;&nbsp; Recall     |                          0.72  |                        0.72  |         0.87\n"
   ]
  },
  {
   "cell_type": "code",
   "execution_count": 48,
   "metadata": {
    "scrolled": true
   },
   "outputs": [
    {
     "data": {
      "image/png": "[encoded data removed]",
      "text/plain": [
       "<Figure size 576x432 with 1 Axes>"
      ]
     },
     "metadata": {},
     "output_type": "display_data"
    }
   ],
   "source": [
    "import matplotlib.pyplot as plt\n",
    "from sklearn.metrics import roc_curve, roc_auc_score\n",
    "\n",
    "# Example: Assuming these are your trained models\n",
    "# logistic_model, dt_model, rf_model (fit outside a pipeline or extracted from pipelines)\n",
    "# and X_test is already preprocessed (if needed)\n",
    "\n",
    "# Get predicted probabilities for the positive class (class 1)\n",
    "logistic_probs = log2_pipeline.predict_proba(X_test)[:, 1]\n",
    "dt_probs = dt_pipeline.predict_proba(X_test)[:, 1]\n",
    "rf_probs = rf_pipeline.predict_proba(X_test)[:, 1]\n",
    "\n",
    "# Compute ROC curves and AUC scores\n",
    "fpr_log, tpr_log, _ = roc_curve(y_test, logistic_probs)\n",
    "fpr_dt, tpr_dt, _ = roc_curve(y_test, dt_probs)\n",
    "fpr_rf, tpr_rf, _ = roc_curve(y_test, rf_probs)\n",
    "\n",
    "auc_log = roc_auc_score(y_test, logistic_probs)\n",
    "auc_dt = roc_auc_score(y_test, dt_probs)\n",
    "auc_rf = roc_auc_score(y_test, rf_probs)\n",
    "\n",
    "# Plotting\n",
    "plt.figure(figsize=(8, 6))\n",
    "plt.plot(fpr_log, tpr_log, label=f'Logistic Regression (AUC = {auc_log:.2f})', color='green')\n",
    "plt.plot(fpr_dt, tpr_dt, label=f'Decision Tree (AUC = {auc_dt:.2f})', color='orange')\n",
    "plt.plot(fpr_rf, tpr_rf, label=f'Random Forest (AUC = {auc_rf:.2f})', color='blue')\n",
    "\n",
    "plt.plot([0, 1], [0, 1], linestyle='--', color='gray')  # Diagonal line\n",
    "plt.xlabel('False Positive Rate')\n",
    "plt.ylabel('True Positive Rate')\n",
    "plt.title('ROC Curves for All Models')\n",
    "plt.legend(loc='lower right')\n",
    "plt.grid(True)\n",
    "plt.show()\n"
   ]
  },
  {
   "cell_type": "markdown",
   "metadata": {},
   "source": [
    "ROC Curve evaluates how well the model separates positive from negative class.\n",
    "We check the best model by highest curve closest to top-left."
   ]
  },
  {
   "cell_type": "code",
   "execution_count": 49,
   "metadata": {},
   "outputs": [
    {
     "data": {
      "image/png": "[encoded data removed]",
      "text/plain": [
       "<Figure size 576x432 with 1 Axes>"
      ]
     },
     "metadata": {},
     "output_type": "display_data"
    }
   ],
   "source": [
    "from sklearn.metrics import precision_recall_curve, average_precision_score\n",
    "\n",
    "# Compute precision-recall pairs\n",
    "prec_log, rec_log, _ = precision_recall_curve(y_test, log2_pipeline.predict_proba(X_test)[:, 1])\n",
    "prec_dt, rec_dt, _ = precision_recall_curve(y_test, dt_pipeline.predict_proba(X_test)[:, 1])\n",
    "prec_rf, rec_rf, _ = precision_recall_curve(y_test, rf_pipeline.predict_proba(X_test)[:, 1])\n",
    "\n",
    "# Compute average precision scores\n",
    "ap_log = average_precision_score(y_test, log2_pipeline.predict_proba(X_test)[:, 1])\n",
    "ap_dt = average_precision_score(y_test, dt_pipeline.predict_proba(X_test)[:, 1])\n",
    "ap_rf = average_precision_score(y_test, rf_pipeline.predict_proba(X_test)[:, 1])\n",
    "\n",
    "# Plot\n",
    "plt.figure(figsize=(8, 6))\n",
    "plt.plot(rec_log, prec_log, label=f'Logistic Regression (AP = {ap_log:.2f})', color='green')\n",
    "plt.plot(rec_dt, prec_dt, label=f'Decision Tree (AP = {ap_dt:.2f})', color='orange')\n",
    "plt.plot(rec_rf, prec_rf, label=f'Random Forest (AP = {ap_rf:.2f})', color='blue')\n",
    "\n",
    "plt.xlabel('Recall')\n",
    "plt.ylabel('Precision')\n",
    "plt.title('Precision-Recall Curves')\n",
    "plt.legend(loc='lower left')\n",
    "plt.grid(True)\n",
    "plt.show()\n"
   ]
  },
  {
   "cell_type": "markdown",
   "metadata": {},
   "source": [
    "Precision-Recall Curve  focuses on positive class performance, especially when dealing with class imbalance."
   ]
  },
  {
   "cell_type": "markdown",
   "metadata": {},
   "source": [
    "From our graphs;\n",
    "\n",
    "#### Logistic Regression; \n",
    "Performs best overall for identifying >50K earners:\n",
    "\n",
    "Maintains high precision even as recall increases.\n",
    "\n",
    "Ideal if false positives are costly (e.g., auditing low-income people).\n",
    "\n",
    "#### Random Forest is close in performance;\n",
    "\n",
    "Slightly better than Decision Tree across most thresholds.\n",
    "\n",
    "A strong model to use if you want a balance of robustness + interpretability.\n",
    "\n",
    "#### Decision Tree has;\n",
    "\n",
    "Very high precision at low recall, but drops off quickly.\n",
    "\n",
    "Indicates overfitting or instability with complex splits.\n",
    "\n"
   ]
  },
  {
   "cell_type": "code",
   "execution_count": 50,
   "metadata": {},
   "outputs": [
    {
     "data": {
      "image/png": "[encoded data removed]",
      "text/plain": [
       "<Figure size 1296x360 with 6 Axes>"
      ]
     },
     "metadata": {},
     "output_type": "display_data"
    }
   ],
   "source": [
    "from sklearn.metrics import ConfusionMatrixDisplay\n",
    "\n",
    "fig, axes = plt.subplots(1, 3, figsize=(18, 5))\n",
    "\n",
    "ConfusionMatrixDisplay.from_estimator(log2_pipeline, X_test, y_test, ax=axes[0], cmap='Blues')\n",
    "axes[0].set_title('Logistic Regression')\n",
    "\n",
    "ConfusionMatrixDisplay.from_estimator(dt_pipeline, X_test, y_test, ax=axes[1], cmap='Oranges')\n",
    "axes[1].set_title('Decision Tree')\n",
    "\n",
    "ConfusionMatrixDisplay.from_estimator(rf_pipeline, X_test, y_test, ax=axes[2], cmap='Greens')\n",
    "axes[2].set_title('Random Forest')\n",
    "#remove grid lines\n",
    "for ax in axes:\n",
    "    ax.grid(False)\n",
    "plt.suptitle('Confusion Matrices for Different Models', fontsize=16)\n",
    "plt.tight_layout()\n",
    "plt.show()\n"
   ]
  },
  {
   "cell_type": "markdown",
   "metadata": {},
   "source": [
    "\n",
    "#### Key Findings on Feature Influence (Across Models):\n",
    "\n",
    "Top Positive Drivers for >50K Income: capital_gain, marital_status_Married-civ-spouse, education_num, age, and hours_per_week. These consistently show strong positive correlation with higher income.\n",
    "Strong Negative Driver for >50K Income: education_Preschool.\n",
    "Varying Model Interpretations:\n",
    "#### Logistic Regression: \n",
    "Quantifies linear effect (e.g., capital_gain has highest positive coefficient).\n",
    "#### Decision Tree:\n",
    " Emphasizes single, dominant splits (marital_status_Married-civ-spouse as most important).\n",
    "#### Random Forest:\n",
    " Provides a more robust feature hierarchy, highlighting age and hours_per_week as overall most important.\n",
    "\n",
    "#### Model Performance Summary:\n",
    "\n",
    "#### Overall Accuracy\n",
    " Consistent at 76% across all models (Logistic Regression, Logistic Regression with SMOTE, Decision Tree).\n",
    "#### Logistic Regression (without/with SMOTE):\n",
    "Good precision for <=50K (90%).\n",
    "Struggles with >50K precision (around 50%) but has decent recall (72%). SMOTE had minimal impact.\n",
    "#### Decision Tree:\n",
    "Excellent recall for >50K (87%) – very good at finding high-income individuals.\n",
    "Lower precision for >50K (50%) and lower recall for <=50K (72%), indicating more false positives for the >50K class.\n",
    "Better F1-score for >50K (0.63 vs. 0.59).\n",
    "\n",
    "Income Variation Across Subgroups:\n",
    "\n",
    "Strongly Evident: Income varies significantly by marital status (married individuals generally higher income), education level (higher education → higher income; preschool → lower income), and occupation (e.g., managerial → higher income; handlers/cleaners → lower income).\n",
    "\n",
    "Limited/Indirect Insight: gender, race, and native_country (beyond explicit individual country features not shown as top drivers) showed low importance in models, but this does not negate real-world disparities. Further dedicated analysis is needed for these.\n"
   ]
  },
  {
   "cell_type": "markdown",
   "metadata": {},
   "source": [
    "#### Random Forest (Best Performer):\n",
    "Highest overall accuracy (84%).\n",
    "Highest precision (67%) and F1-score (66%) for >50K, indicating a strong balance of correctly identified high-income earners with fewer false alarms."
   ]
  },
  {
   "cell_type": "markdown",
   "metadata": {},
   "source": [
    "#### Further Observations\n",
    "This Random Forest feature importance list provides a more robust and balanced view of feature importance compared to a single Decision Tree:\n",
    "\n",
    "- Shift in Top Features: Unlike the single Decision Tree dominated by marital_status_Married-civ-spouse, the Random Forest prioritizes age and hours_per_week at the very top. \n",
    "This suggests that for an ensemble, these continuous features are consistently more useful across diverse trees.\n",
    "\n",
    "- Distribution of Importance: The importance values are more evenly distributed among the top 5-10 features in the Random Forest compared to the very steep drop-off seen in the single Decision Tree. \n",
    "This is typical of Random Forests, which reduce variance and provide a more generalized importance estimate.\n",
    "\n",
    "- Features with Zero Importance: In contrast to the single Decision Tree where many features had exactly 0 importance, the Random Forest (unless the feature is truly never split on by any tree, or very few instances fall into its category) tends to assign at least a tiny bit of importance to almost all features, reflecting their collective contribution. However, workclass_Never-worked is an outlier with near zero.\n",
    "\n",
    "The Random Forest provides a comprehensive assessment of feature relevance, highlighting the consistent importance of *age*, *hours_per_week*, *marital_status_Married-civ-spouse*, *capital_gain*, and *education_num* as the primary drivers of income prediction in this dataset."
   ]
  },
  {
   "cell_type": "markdown",
   "metadata": {},
   "source": [
    "### Models Alignment with our Objectives\n",
    "For our first objective we can see all the three models use the features to make predictions. Logistic Regression quantifies linear impact, while Decision Tree and Random Forest quantify importance based on how they split the data to reduce uncertainty, capturing non-linearities and interactions. The specific top predictors vary slightly depending on the model's underlying mechanism.\n",
    "\n",
    "\n",
    "In our second objective  all outputs highlight *capital_gain*, *education_num*, *age*, *hours_per_week*, and *marital_status_Married-civ-spouse* as strong drivers of the >50K outcome. \n",
    "\n",
    "The specific ranking and the type of quantification (linear coefficient vs. impurity reduction importance) differ by model. The Logistic Regression provides the most direct \"effect\" quantification (how much a unit change increases/decreases odds), while tree-based models show overall \"predictive power.\"\n",
    "\n",
    "\n",
    "The third objective for Overall Alignment for Subgroups: The outputs provide strong evidence for how marital status, education level, and specific occupations correlate with income. They offer limited or indirect insight into gender, and no direct insight into race or most native countries, highlighting the need for further, dedicated subgroup analysis beyond general model feature importance."
   ]
  },
  {
   "cell_type": "markdown",
   "metadata": {},
   "source": [
    "\n",
    "\n",
    "\n",
    "#### Recommendations:\n",
    "\n",
    "1) Prioritize Random Forest: For overall accuracy and robust understanding of feature importance, further develop and tune the Random Forest model.\n",
    "\n",
    "2) Refine Imbalance Handling: Explore class_weight parameters or other imblearn techniques within ensemble models, and consider threshold tuning if minority class recall is critical.\n",
    "\n",
    "3) Conduct Deeper Subgroup Analysis: Perform direct statistical analysis (e.g., mean income by group) and use tools like SHAP values to fully understand income disparities related to gender, race, and all native countries."
   ]
  },
  {
   "cell_type": "markdown",
   "metadata": {},
   "source": [
    "#### Recommendations on Business Perspective "
   ]
  },
  {
   "cell_type": "markdown",
   "metadata": {},
   "source": [
    "Depending on the goal of your company, we have looked it in three dimensions to a ensure a company maximizes its goals."
   ]
  },
  {
   "cell_type": "markdown",
   "metadata": {},
   "source": [
    "#### 1. Accurately identify high-income individuals (>50K)\n",
    "Priority: Maximize True Positives (Recall)\n",
    "\n",
    "Use Case: Credit card offers, targeted marketing, financial services\n",
    "\n",
    " Best model: Decision Tree\n",
    "\n",
    "Found 3063 out of 3504 high earners (Recall ≈ 87%)\n",
    "\n",
    "High false positives (predicts people earn >50K when they don’t) — but acceptable in marketing\n",
    "\n",
    "#### 2. Avoid offering services to low-income individuals (<=50K)\n",
    "Priority: Minimize False Positives\n",
    "\n",
    "Use Case: Costly services, loan approval, fraud detection\n",
    "\n",
    "Best model: Random Forest\n",
    "\n",
    "Only 1084 false positives (much lower than others)\n",
    "\n",
    "But it misses more actual high earners (Recall ≈ 64%) — acceptable if risk mitigation is more important\n",
    "\n",
    "###### 3. Balance between high precision and high recall\n",
    "Priority: High F1-score\n",
    "\n",
    "Use Case: General predictive modeling when both errors matter\n",
    "\n",
    " Best model: Logistic Regression\n",
    "\n",
    "Balanced precision/recall\n",
    "\n",
    "Good F1-score (~0.76), strong AUC-ROC (0.91)\n",
    "\n",
    "Best trade-off between missing true cases and raising false alarms"
   ]
  },
  {
   "cell_type": "markdown",
   "metadata": {},
   "source": [
    "### CONCLUSION"
   ]
  },
  {
   "cell_type": "markdown",
   "metadata": {},
   "source": [
    "Our study effectively predicts income using demographic and work-related features. The Random Forest model is the top performer, achieving the best overall accuracy and robustly balancing precision and recall for both income categories. \n",
    "\n",
    "Key drivers of higher income are consistently identified as capital_gain, marital_status_Married-civ-spouse, education_num, age, and hours_per_week. \n",
    "\n",
    "While income varies significantly by marital status, education, and occupation(supported by feature importance graphs), deeper analysis is needed for gender and race to fully understand disparities.This will help ensure our model is not biased on certain ethnicity or gender and not limit our model to certain regionsmor part of the world."
   ]
  }
 ],
 "metadata": {
  "kernelspec": {
   "display_name": "Python 3",
   "language": "python",
   "name": "python3"
  },
  "language_info": {
   "codemirror_mode": {
    "name": "ipython",
    "version": 3
   },
   "file_extension": ".py",
   "mimetype": "text/x-python",
   "name": "python",
   "nbconvert_exporter": "python",
   "pygments_lexer": "ipython3",
   "version": "3.8.5"
  }
 },
 "nbformat": 4,
 "nbformat_minor": 5
}
